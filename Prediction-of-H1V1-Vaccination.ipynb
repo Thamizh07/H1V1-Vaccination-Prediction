{
 "cells": [
  {
   "cell_type": "markdown",
   "id": "84929681",
   "metadata": {},
   "source": [
    "# Problem Statement: Prediction of H1N1 Vaccination"
   ]
  },
  {
   "cell_type": "markdown",
   "id": "5266f4d0",
   "metadata": {},
   "source": [
    "## Import Packages and Read the Data"
   ]
  },
  {
   "cell_type": "code",
   "execution_count": 155,
   "id": "00b3e9c0",
   "metadata": {},
   "outputs": [],
   "source": [
    "import csv\n",
    "import random\n",
    "import numpy as np\n",
    "import pandas as pd\n",
    "import dask.dataframe as dd\n",
    "import os\n",
    "from pathlib import Path\n",
    "from tqdm import tqdm\n",
    "import matplotlib.pyplot as plt    \n",
    "%matplotlib inline\n",
    "import re\n",
    "import seaborn as sns\n",
    "import gc\n",
    "import time\n",
    "from math import radians, cos, sin, asin, sqrt\n",
    "import warnings\n",
    "warnings.filterwarnings(\"ignore\")\n",
    "import os\n",
    "from sklearn.model_selection import train_test_split\n",
    "from sklearn import metrics\n",
    "from sklearn.linear_model import LogisticRegression"
   ]
  },
  {
   "cell_type": "code",
   "execution_count": 156,
   "id": "d2c97435",
   "metadata": {},
   "outputs": [],
   "source": [
    "d=pd.read_csv(\"h1n1_vaccine_prediction.csv\")"
   ]
  },
  {
   "cell_type": "markdown",
   "id": "d8463395",
   "metadata": {},
   "source": [
    "## Exploratory Data Analysis"
   ]
  },
  {
   "cell_type": "code",
   "execution_count": 157,
   "id": "927f0c0c",
   "metadata": {},
   "outputs": [
    {
     "data": {
      "text/html": [
       "<div>\n",
       "<style scoped>\n",
       "    .dataframe tbody tr th:only-of-type {\n",
       "        vertical-align: middle;\n",
       "    }\n",
       "\n",
       "    .dataframe tbody tr th {\n",
       "        vertical-align: top;\n",
       "    }\n",
       "\n",
       "    .dataframe thead th {\n",
       "        text-align: right;\n",
       "    }\n",
       "</style>\n",
       "<table border=\"1\" class=\"dataframe\">\n",
       "  <thead>\n",
       "    <tr style=\"text-align: right;\">\n",
       "      <th></th>\n",
       "      <th>unique_id</th>\n",
       "      <th>h1n1_worry</th>\n",
       "      <th>h1n1_awareness</th>\n",
       "      <th>antiviral_medication</th>\n",
       "      <th>contact_avoidance</th>\n",
       "      <th>bought_face_mask</th>\n",
       "      <th>wash_hands_frequently</th>\n",
       "      <th>avoid_large_gatherings</th>\n",
       "      <th>reduced_outside_home_cont</th>\n",
       "      <th>avoid_touch_face</th>\n",
       "      <th>...</th>\n",
       "      <th>race</th>\n",
       "      <th>sex</th>\n",
       "      <th>income_level</th>\n",
       "      <th>marital_status</th>\n",
       "      <th>housing_status</th>\n",
       "      <th>employment</th>\n",
       "      <th>census_msa</th>\n",
       "      <th>no_of_adults</th>\n",
       "      <th>no_of_children</th>\n",
       "      <th>h1n1_vaccine</th>\n",
       "    </tr>\n",
       "  </thead>\n",
       "  <tbody>\n",
       "    <tr>\n",
       "      <th>0</th>\n",
       "      <td>0</td>\n",
       "      <td>1.0</td>\n",
       "      <td>0.0</td>\n",
       "      <td>0.0</td>\n",
       "      <td>0.0</td>\n",
       "      <td>0.0</td>\n",
       "      <td>0.0</td>\n",
       "      <td>0.0</td>\n",
       "      <td>1.0</td>\n",
       "      <td>1.0</td>\n",
       "      <td>...</td>\n",
       "      <td>White</td>\n",
       "      <td>Female</td>\n",
       "      <td>Below Poverty</td>\n",
       "      <td>Not Married</td>\n",
       "      <td>Own</td>\n",
       "      <td>Not in Labor Force</td>\n",
       "      <td>Non-MSA</td>\n",
       "      <td>0.0</td>\n",
       "      <td>0.0</td>\n",
       "      <td>0</td>\n",
       "    </tr>\n",
       "    <tr>\n",
       "      <th>1</th>\n",
       "      <td>1</td>\n",
       "      <td>3.0</td>\n",
       "      <td>2.0</td>\n",
       "      <td>0.0</td>\n",
       "      <td>1.0</td>\n",
       "      <td>0.0</td>\n",
       "      <td>1.0</td>\n",
       "      <td>0.0</td>\n",
       "      <td>1.0</td>\n",
       "      <td>1.0</td>\n",
       "      <td>...</td>\n",
       "      <td>White</td>\n",
       "      <td>Male</td>\n",
       "      <td>Below Poverty</td>\n",
       "      <td>Not Married</td>\n",
       "      <td>Rent</td>\n",
       "      <td>Employed</td>\n",
       "      <td>MSA, Not Principle  City</td>\n",
       "      <td>0.0</td>\n",
       "      <td>0.0</td>\n",
       "      <td>0</td>\n",
       "    </tr>\n",
       "    <tr>\n",
       "      <th>2</th>\n",
       "      <td>2</td>\n",
       "      <td>1.0</td>\n",
       "      <td>1.0</td>\n",
       "      <td>0.0</td>\n",
       "      <td>1.0</td>\n",
       "      <td>0.0</td>\n",
       "      <td>0.0</td>\n",
       "      <td>0.0</td>\n",
       "      <td>0.0</td>\n",
       "      <td>0.0</td>\n",
       "      <td>...</td>\n",
       "      <td>White</td>\n",
       "      <td>Male</td>\n",
       "      <td>&lt;= $75,000, Above Poverty</td>\n",
       "      <td>Not Married</td>\n",
       "      <td>Own</td>\n",
       "      <td>Employed</td>\n",
       "      <td>MSA, Not Principle  City</td>\n",
       "      <td>2.0</td>\n",
       "      <td>0.0</td>\n",
       "      <td>0</td>\n",
       "    </tr>\n",
       "    <tr>\n",
       "      <th>3</th>\n",
       "      <td>3</td>\n",
       "      <td>1.0</td>\n",
       "      <td>1.0</td>\n",
       "      <td>0.0</td>\n",
       "      <td>1.0</td>\n",
       "      <td>0.0</td>\n",
       "      <td>1.0</td>\n",
       "      <td>1.0</td>\n",
       "      <td>0.0</td>\n",
       "      <td>0.0</td>\n",
       "      <td>...</td>\n",
       "      <td>White</td>\n",
       "      <td>Female</td>\n",
       "      <td>Below Poverty</td>\n",
       "      <td>Not Married</td>\n",
       "      <td>Rent</td>\n",
       "      <td>Not in Labor Force</td>\n",
       "      <td>MSA, Principle City</td>\n",
       "      <td>0.0</td>\n",
       "      <td>0.0</td>\n",
       "      <td>0</td>\n",
       "    </tr>\n",
       "    <tr>\n",
       "      <th>4</th>\n",
       "      <td>4</td>\n",
       "      <td>2.0</td>\n",
       "      <td>1.0</td>\n",
       "      <td>0.0</td>\n",
       "      <td>1.0</td>\n",
       "      <td>0.0</td>\n",
       "      <td>1.0</td>\n",
       "      <td>1.0</td>\n",
       "      <td>0.0</td>\n",
       "      <td>1.0</td>\n",
       "      <td>...</td>\n",
       "      <td>White</td>\n",
       "      <td>Female</td>\n",
       "      <td>&lt;= $75,000, Above Poverty</td>\n",
       "      <td>Married</td>\n",
       "      <td>Own</td>\n",
       "      <td>Employed</td>\n",
       "      <td>MSA, Not Principle  City</td>\n",
       "      <td>1.0</td>\n",
       "      <td>0.0</td>\n",
       "      <td>0</td>\n",
       "    </tr>\n",
       "    <tr>\n",
       "      <th>5</th>\n",
       "      <td>5</td>\n",
       "      <td>3.0</td>\n",
       "      <td>1.0</td>\n",
       "      <td>0.0</td>\n",
       "      <td>1.0</td>\n",
       "      <td>0.0</td>\n",
       "      <td>1.0</td>\n",
       "      <td>0.0</td>\n",
       "      <td>0.0</td>\n",
       "      <td>1.0</td>\n",
       "      <td>...</td>\n",
       "      <td>White</td>\n",
       "      <td>Male</td>\n",
       "      <td>&lt;= $75,000, Above Poverty</td>\n",
       "      <td>Married</td>\n",
       "      <td>Own</td>\n",
       "      <td>Employed</td>\n",
       "      <td>MSA, Principle City</td>\n",
       "      <td>2.0</td>\n",
       "      <td>3.0</td>\n",
       "      <td>0</td>\n",
       "    </tr>\n",
       "    <tr>\n",
       "      <th>6</th>\n",
       "      <td>6</td>\n",
       "      <td>0.0</td>\n",
       "      <td>0.0</td>\n",
       "      <td>0.0</td>\n",
       "      <td>0.0</td>\n",
       "      <td>0.0</td>\n",
       "      <td>0.0</td>\n",
       "      <td>0.0</td>\n",
       "      <td>0.0</td>\n",
       "      <td>0.0</td>\n",
       "      <td>...</td>\n",
       "      <td>White</td>\n",
       "      <td>Male</td>\n",
       "      <td>&lt;= $75,000, Above Poverty</td>\n",
       "      <td>Not Married</td>\n",
       "      <td>Own</td>\n",
       "      <td>Employed</td>\n",
       "      <td>MSA, Not Principle  City</td>\n",
       "      <td>0.0</td>\n",
       "      <td>0.0</td>\n",
       "      <td>0</td>\n",
       "    </tr>\n",
       "    <tr>\n",
       "      <th>7</th>\n",
       "      <td>7</td>\n",
       "      <td>1.0</td>\n",
       "      <td>0.0</td>\n",
       "      <td>0.0</td>\n",
       "      <td>1.0</td>\n",
       "      <td>0.0</td>\n",
       "      <td>1.0</td>\n",
       "      <td>0.0</td>\n",
       "      <td>0.0</td>\n",
       "      <td>1.0</td>\n",
       "      <td>...</td>\n",
       "      <td>White</td>\n",
       "      <td>Female</td>\n",
       "      <td>&lt;= $75,000, Above Poverty</td>\n",
       "      <td>Married</td>\n",
       "      <td>Own</td>\n",
       "      <td>Employed</td>\n",
       "      <td>Non-MSA</td>\n",
       "      <td>2.0</td>\n",
       "      <td>0.0</td>\n",
       "      <td>1</td>\n",
       "    </tr>\n",
       "    <tr>\n",
       "      <th>8</th>\n",
       "      <td>8</td>\n",
       "      <td>0.0</td>\n",
       "      <td>2.0</td>\n",
       "      <td>0.0</td>\n",
       "      <td>1.0</td>\n",
       "      <td>0.0</td>\n",
       "      <td>1.0</td>\n",
       "      <td>1.0</td>\n",
       "      <td>1.0</td>\n",
       "      <td>1.0</td>\n",
       "      <td>...</td>\n",
       "      <td>White</td>\n",
       "      <td>Male</td>\n",
       "      <td>&gt; $75,000</td>\n",
       "      <td>Married</td>\n",
       "      <td>Own</td>\n",
       "      <td>Employed</td>\n",
       "      <td>MSA, Not Principle  City</td>\n",
       "      <td>1.0</td>\n",
       "      <td>0.0</td>\n",
       "      <td>0</td>\n",
       "    </tr>\n",
       "    <tr>\n",
       "      <th>9</th>\n",
       "      <td>9</td>\n",
       "      <td>2.0</td>\n",
       "      <td>1.0</td>\n",
       "      <td>0.0</td>\n",
       "      <td>1.0</td>\n",
       "      <td>0.0</td>\n",
       "      <td>0.0</td>\n",
       "      <td>1.0</td>\n",
       "      <td>0.0</td>\n",
       "      <td>1.0</td>\n",
       "      <td>...</td>\n",
       "      <td>White</td>\n",
       "      <td>Male</td>\n",
       "      <td>&lt;= $75,000, Above Poverty</td>\n",
       "      <td>Not Married</td>\n",
       "      <td>Own</td>\n",
       "      <td>Not in Labor Force</td>\n",
       "      <td>MSA, Not Principle  City</td>\n",
       "      <td>0.0</td>\n",
       "      <td>0.0</td>\n",
       "      <td>0</td>\n",
       "    </tr>\n",
       "  </tbody>\n",
       "</table>\n",
       "<p>10 rows × 34 columns</p>\n",
       "</div>"
      ],
      "text/plain": [
       "   unique_id  h1n1_worry  h1n1_awareness  antiviral_medication  \\\n",
       "0          0         1.0             0.0                   0.0   \n",
       "1          1         3.0             2.0                   0.0   \n",
       "2          2         1.0             1.0                   0.0   \n",
       "3          3         1.0             1.0                   0.0   \n",
       "4          4         2.0             1.0                   0.0   \n",
       "5          5         3.0             1.0                   0.0   \n",
       "6          6         0.0             0.0                   0.0   \n",
       "7          7         1.0             0.0                   0.0   \n",
       "8          8         0.0             2.0                   0.0   \n",
       "9          9         2.0             1.0                   0.0   \n",
       "\n",
       "   contact_avoidance  bought_face_mask  wash_hands_frequently  \\\n",
       "0                0.0               0.0                    0.0   \n",
       "1                1.0               0.0                    1.0   \n",
       "2                1.0               0.0                    0.0   \n",
       "3                1.0               0.0                    1.0   \n",
       "4                1.0               0.0                    1.0   \n",
       "5                1.0               0.0                    1.0   \n",
       "6                0.0               0.0                    0.0   \n",
       "7                1.0               0.0                    1.0   \n",
       "8                1.0               0.0                    1.0   \n",
       "9                1.0               0.0                    0.0   \n",
       "\n",
       "   avoid_large_gatherings  reduced_outside_home_cont  avoid_touch_face  ...  \\\n",
       "0                     0.0                        1.0               1.0  ...   \n",
       "1                     0.0                        1.0               1.0  ...   \n",
       "2                     0.0                        0.0               0.0  ...   \n",
       "3                     1.0                        0.0               0.0  ...   \n",
       "4                     1.0                        0.0               1.0  ...   \n",
       "5                     0.0                        0.0               1.0  ...   \n",
       "6                     0.0                        0.0               0.0  ...   \n",
       "7                     0.0                        0.0               1.0  ...   \n",
       "8                     1.0                        1.0               1.0  ...   \n",
       "9                     1.0                        0.0               1.0  ...   \n",
       "\n",
       "    race     sex               income_level  marital_status  housing_status  \\\n",
       "0  White  Female              Below Poverty     Not Married             Own   \n",
       "1  White    Male              Below Poverty     Not Married            Rent   \n",
       "2  White    Male  <= $75,000, Above Poverty     Not Married             Own   \n",
       "3  White  Female              Below Poverty     Not Married            Rent   \n",
       "4  White  Female  <= $75,000, Above Poverty         Married             Own   \n",
       "5  White    Male  <= $75,000, Above Poverty         Married             Own   \n",
       "6  White    Male  <= $75,000, Above Poverty     Not Married             Own   \n",
       "7  White  Female  <= $75,000, Above Poverty         Married             Own   \n",
       "8  White    Male                  > $75,000         Married             Own   \n",
       "9  White    Male  <= $75,000, Above Poverty     Not Married             Own   \n",
       "\n",
       "           employment                census_msa  no_of_adults  no_of_children  \\\n",
       "0  Not in Labor Force                   Non-MSA           0.0             0.0   \n",
       "1            Employed  MSA, Not Principle  City           0.0             0.0   \n",
       "2            Employed  MSA, Not Principle  City           2.0             0.0   \n",
       "3  Not in Labor Force       MSA, Principle City           0.0             0.0   \n",
       "4            Employed  MSA, Not Principle  City           1.0             0.0   \n",
       "5            Employed       MSA, Principle City           2.0             3.0   \n",
       "6            Employed  MSA, Not Principle  City           0.0             0.0   \n",
       "7            Employed                   Non-MSA           2.0             0.0   \n",
       "8            Employed  MSA, Not Principle  City           1.0             0.0   \n",
       "9  Not in Labor Force  MSA, Not Principle  City           0.0             0.0   \n",
       "\n",
       "   h1n1_vaccine  \n",
       "0             0  \n",
       "1             0  \n",
       "2             0  \n",
       "3             0  \n",
       "4             0  \n",
       "5             0  \n",
       "6             0  \n",
       "7             1  \n",
       "8             0  \n",
       "9             0  \n",
       "\n",
       "[10 rows x 34 columns]"
      ]
     },
     "execution_count": 157,
     "metadata": {},
     "output_type": "execute_result"
    }
   ],
   "source": [
    "d.head(10)"
   ]
  },
  {
   "cell_type": "code",
   "execution_count": 158,
   "id": "8cc31f4c",
   "metadata": {},
   "outputs": [
    {
     "data": {
      "text/html": [
       "<div>\n",
       "<style scoped>\n",
       "    .dataframe tbody tr th:only-of-type {\n",
       "        vertical-align: middle;\n",
       "    }\n",
       "\n",
       "    .dataframe tbody tr th {\n",
       "        vertical-align: top;\n",
       "    }\n",
       "\n",
       "    .dataframe thead th {\n",
       "        text-align: right;\n",
       "    }\n",
       "</style>\n",
       "<table border=\"1\" class=\"dataframe\">\n",
       "  <thead>\n",
       "    <tr style=\"text-align: right;\">\n",
       "      <th></th>\n",
       "      <th>unique_id</th>\n",
       "      <th>h1n1_worry</th>\n",
       "      <th>h1n1_awareness</th>\n",
       "      <th>antiviral_medication</th>\n",
       "      <th>contact_avoidance</th>\n",
       "      <th>bought_face_mask</th>\n",
       "      <th>wash_hands_frequently</th>\n",
       "      <th>avoid_large_gatherings</th>\n",
       "      <th>reduced_outside_home_cont</th>\n",
       "      <th>avoid_touch_face</th>\n",
       "      <th>...</th>\n",
       "      <th>race</th>\n",
       "      <th>sex</th>\n",
       "      <th>income_level</th>\n",
       "      <th>marital_status</th>\n",
       "      <th>housing_status</th>\n",
       "      <th>employment</th>\n",
       "      <th>census_msa</th>\n",
       "      <th>no_of_adults</th>\n",
       "      <th>no_of_children</th>\n",
       "      <th>h1n1_vaccine</th>\n",
       "    </tr>\n",
       "  </thead>\n",
       "  <tbody>\n",
       "    <tr>\n",
       "      <th>26697</th>\n",
       "      <td>26697</td>\n",
       "      <td>1.0</td>\n",
       "      <td>1.0</td>\n",
       "      <td>0.0</td>\n",
       "      <td>1.0</td>\n",
       "      <td>0.0</td>\n",
       "      <td>1.0</td>\n",
       "      <td>0.0</td>\n",
       "      <td>1.0</td>\n",
       "      <td>1.0</td>\n",
       "      <td>...</td>\n",
       "      <td>White</td>\n",
       "      <td>Male</td>\n",
       "      <td>&gt; $75,000</td>\n",
       "      <td>Married</td>\n",
       "      <td>Own</td>\n",
       "      <td>Not in Labor Force</td>\n",
       "      <td>MSA, Principle City</td>\n",
       "      <td>1.0</td>\n",
       "      <td>0.0</td>\n",
       "      <td>0</td>\n",
       "    </tr>\n",
       "    <tr>\n",
       "      <th>26698</th>\n",
       "      <td>26698</td>\n",
       "      <td>2.0</td>\n",
       "      <td>1.0</td>\n",
       "      <td>0.0</td>\n",
       "      <td>1.0</td>\n",
       "      <td>0.0</td>\n",
       "      <td>1.0</td>\n",
       "      <td>0.0</td>\n",
       "      <td>0.0</td>\n",
       "      <td>1.0</td>\n",
       "      <td>...</td>\n",
       "      <td>White</td>\n",
       "      <td>Female</td>\n",
       "      <td>&gt; $75,000</td>\n",
       "      <td>Married</td>\n",
       "      <td>Own</td>\n",
       "      <td>Employed</td>\n",
       "      <td>MSA, Not Principle  City</td>\n",
       "      <td>1.0</td>\n",
       "      <td>1.0</td>\n",
       "      <td>0</td>\n",
       "    </tr>\n",
       "    <tr>\n",
       "      <th>26699</th>\n",
       "      <td>26699</td>\n",
       "      <td>2.0</td>\n",
       "      <td>2.0</td>\n",
       "      <td>0.0</td>\n",
       "      <td>1.0</td>\n",
       "      <td>0.0</td>\n",
       "      <td>1.0</td>\n",
       "      <td>1.0</td>\n",
       "      <td>0.0</td>\n",
       "      <td>1.0</td>\n",
       "      <td>...</td>\n",
       "      <td>White</td>\n",
       "      <td>Female</td>\n",
       "      <td>&lt;= $75,000, Above Poverty</td>\n",
       "      <td>Married</td>\n",
       "      <td>Own</td>\n",
       "      <td>Employed</td>\n",
       "      <td>MSA, Not Principle  City</td>\n",
       "      <td>1.0</td>\n",
       "      <td>0.0</td>\n",
       "      <td>0</td>\n",
       "    </tr>\n",
       "    <tr>\n",
       "      <th>26700</th>\n",
       "      <td>26700</td>\n",
       "      <td>3.0</td>\n",
       "      <td>1.0</td>\n",
       "      <td>0.0</td>\n",
       "      <td>1.0</td>\n",
       "      <td>0.0</td>\n",
       "      <td>1.0</td>\n",
       "      <td>0.0</td>\n",
       "      <td>0.0</td>\n",
       "      <td>1.0</td>\n",
       "      <td>...</td>\n",
       "      <td>White</td>\n",
       "      <td>Female</td>\n",
       "      <td>&gt; $75,000</td>\n",
       "      <td>Married</td>\n",
       "      <td>Own</td>\n",
       "      <td>Not in Labor Force</td>\n",
       "      <td>MSA, Principle City</td>\n",
       "      <td>1.0</td>\n",
       "      <td>0.0</td>\n",
       "      <td>0</td>\n",
       "    </tr>\n",
       "    <tr>\n",
       "      <th>26701</th>\n",
       "      <td>26701</td>\n",
       "      <td>2.0</td>\n",
       "      <td>2.0</td>\n",
       "      <td>0.0</td>\n",
       "      <td>0.0</td>\n",
       "      <td>0.0</td>\n",
       "      <td>1.0</td>\n",
       "      <td>0.0</td>\n",
       "      <td>0.0</td>\n",
       "      <td>1.0</td>\n",
       "      <td>...</td>\n",
       "      <td>White</td>\n",
       "      <td>Female</td>\n",
       "      <td>&gt; $75,000</td>\n",
       "      <td>Not Married</td>\n",
       "      <td>Rent</td>\n",
       "      <td>Not in Labor Force</td>\n",
       "      <td>MSA, Principle City</td>\n",
       "      <td>3.0</td>\n",
       "      <td>0.0</td>\n",
       "      <td>0</td>\n",
       "    </tr>\n",
       "    <tr>\n",
       "      <th>26702</th>\n",
       "      <td>26702</td>\n",
       "      <td>2.0</td>\n",
       "      <td>0.0</td>\n",
       "      <td>0.0</td>\n",
       "      <td>1.0</td>\n",
       "      <td>0.0</td>\n",
       "      <td>0.0</td>\n",
       "      <td>0.0</td>\n",
       "      <td>1.0</td>\n",
       "      <td>0.0</td>\n",
       "      <td>...</td>\n",
       "      <td>White</td>\n",
       "      <td>Female</td>\n",
       "      <td>&lt;= $75,000, Above Poverty</td>\n",
       "      <td>Not Married</td>\n",
       "      <td>Own</td>\n",
       "      <td>Not in Labor Force</td>\n",
       "      <td>Non-MSA</td>\n",
       "      <td>0.0</td>\n",
       "      <td>0.0</td>\n",
       "      <td>0</td>\n",
       "    </tr>\n",
       "    <tr>\n",
       "      <th>26703</th>\n",
       "      <td>26703</td>\n",
       "      <td>1.0</td>\n",
       "      <td>2.0</td>\n",
       "      <td>0.0</td>\n",
       "      <td>1.0</td>\n",
       "      <td>0.0</td>\n",
       "      <td>1.0</td>\n",
       "      <td>0.0</td>\n",
       "      <td>0.0</td>\n",
       "      <td>0.0</td>\n",
       "      <td>...</td>\n",
       "      <td>White</td>\n",
       "      <td>Male</td>\n",
       "      <td>&lt;= $75,000, Above Poverty</td>\n",
       "      <td>Not Married</td>\n",
       "      <td>Rent</td>\n",
       "      <td>Employed</td>\n",
       "      <td>MSA, Principle City</td>\n",
       "      <td>1.0</td>\n",
       "      <td>0.0</td>\n",
       "      <td>0</td>\n",
       "    </tr>\n",
       "    <tr>\n",
       "      <th>26704</th>\n",
       "      <td>26704</td>\n",
       "      <td>2.0</td>\n",
       "      <td>2.0</td>\n",
       "      <td>0.0</td>\n",
       "      <td>1.0</td>\n",
       "      <td>1.0</td>\n",
       "      <td>1.0</td>\n",
       "      <td>1.0</td>\n",
       "      <td>0.0</td>\n",
       "      <td>1.0</td>\n",
       "      <td>...</td>\n",
       "      <td>White</td>\n",
       "      <td>Female</td>\n",
       "      <td>NaN</td>\n",
       "      <td>Not Married</td>\n",
       "      <td>Own</td>\n",
       "      <td>NaN</td>\n",
       "      <td>MSA, Not Principle  City</td>\n",
       "      <td>0.0</td>\n",
       "      <td>0.0</td>\n",
       "      <td>0</td>\n",
       "    </tr>\n",
       "    <tr>\n",
       "      <th>26705</th>\n",
       "      <td>26705</td>\n",
       "      <td>1.0</td>\n",
       "      <td>1.0</td>\n",
       "      <td>0.0</td>\n",
       "      <td>0.0</td>\n",
       "      <td>0.0</td>\n",
       "      <td>0.0</td>\n",
       "      <td>0.0</td>\n",
       "      <td>0.0</td>\n",
       "      <td>NaN</td>\n",
       "      <td>...</td>\n",
       "      <td>Hispanic</td>\n",
       "      <td>Female</td>\n",
       "      <td>&lt;= $75,000, Above Poverty</td>\n",
       "      <td>Married</td>\n",
       "      <td>Rent</td>\n",
       "      <td>Employed</td>\n",
       "      <td>Non-MSA</td>\n",
       "      <td>1.0</td>\n",
       "      <td>0.0</td>\n",
       "      <td>0</td>\n",
       "    </tr>\n",
       "    <tr>\n",
       "      <th>26706</th>\n",
       "      <td>26706</td>\n",
       "      <td>0.0</td>\n",
       "      <td>0.0</td>\n",
       "      <td>0.0</td>\n",
       "      <td>1.0</td>\n",
       "      <td>0.0</td>\n",
       "      <td>0.0</td>\n",
       "      <td>0.0</td>\n",
       "      <td>0.0</td>\n",
       "      <td>0.0</td>\n",
       "      <td>...</td>\n",
       "      <td>White</td>\n",
       "      <td>Male</td>\n",
       "      <td>&lt;= $75,000, Above Poverty</td>\n",
       "      <td>Married</td>\n",
       "      <td>Own</td>\n",
       "      <td>Not in Labor Force</td>\n",
       "      <td>MSA, Principle City</td>\n",
       "      <td>1.0</td>\n",
       "      <td>0.0</td>\n",
       "      <td>0</td>\n",
       "    </tr>\n",
       "  </tbody>\n",
       "</table>\n",
       "<p>10 rows × 34 columns</p>\n",
       "</div>"
      ],
      "text/plain": [
       "       unique_id  h1n1_worry  h1n1_awareness  antiviral_medication  \\\n",
       "26697      26697         1.0             1.0                   0.0   \n",
       "26698      26698         2.0             1.0                   0.0   \n",
       "26699      26699         2.0             2.0                   0.0   \n",
       "26700      26700         3.0             1.0                   0.0   \n",
       "26701      26701         2.0             2.0                   0.0   \n",
       "26702      26702         2.0             0.0                   0.0   \n",
       "26703      26703         1.0             2.0                   0.0   \n",
       "26704      26704         2.0             2.0                   0.0   \n",
       "26705      26705         1.0             1.0                   0.0   \n",
       "26706      26706         0.0             0.0                   0.0   \n",
       "\n",
       "       contact_avoidance  bought_face_mask  wash_hands_frequently  \\\n",
       "26697                1.0               0.0                    1.0   \n",
       "26698                1.0               0.0                    1.0   \n",
       "26699                1.0               0.0                    1.0   \n",
       "26700                1.0               0.0                    1.0   \n",
       "26701                0.0               0.0                    1.0   \n",
       "26702                1.0               0.0                    0.0   \n",
       "26703                1.0               0.0                    1.0   \n",
       "26704                1.0               1.0                    1.0   \n",
       "26705                0.0               0.0                    0.0   \n",
       "26706                1.0               0.0                    0.0   \n",
       "\n",
       "       avoid_large_gatherings  reduced_outside_home_cont  avoid_touch_face  \\\n",
       "26697                     0.0                        1.0               1.0   \n",
       "26698                     0.0                        0.0               1.0   \n",
       "26699                     1.0                        0.0               1.0   \n",
       "26700                     0.0                        0.0               1.0   \n",
       "26701                     0.0                        0.0               1.0   \n",
       "26702                     0.0                        1.0               0.0   \n",
       "26703                     0.0                        0.0               0.0   \n",
       "26704                     1.0                        0.0               1.0   \n",
       "26705                     0.0                        0.0               NaN   \n",
       "26706                     0.0                        0.0               0.0   \n",
       "\n",
       "       ...      race     sex               income_level  marital_status  \\\n",
       "26697  ...     White    Male                  > $75,000         Married   \n",
       "26698  ...     White  Female                  > $75,000         Married   \n",
       "26699  ...     White  Female  <= $75,000, Above Poverty         Married   \n",
       "26700  ...     White  Female                  > $75,000         Married   \n",
       "26701  ...     White  Female                  > $75,000     Not Married   \n",
       "26702  ...     White  Female  <= $75,000, Above Poverty     Not Married   \n",
       "26703  ...     White    Male  <= $75,000, Above Poverty     Not Married   \n",
       "26704  ...     White  Female                        NaN     Not Married   \n",
       "26705  ...  Hispanic  Female  <= $75,000, Above Poverty         Married   \n",
       "26706  ...     White    Male  <= $75,000, Above Poverty         Married   \n",
       "\n",
       "       housing_status          employment                census_msa  \\\n",
       "26697             Own  Not in Labor Force       MSA, Principle City   \n",
       "26698             Own            Employed  MSA, Not Principle  City   \n",
       "26699             Own            Employed  MSA, Not Principle  City   \n",
       "26700             Own  Not in Labor Force       MSA, Principle City   \n",
       "26701            Rent  Not in Labor Force       MSA, Principle City   \n",
       "26702             Own  Not in Labor Force                   Non-MSA   \n",
       "26703            Rent            Employed       MSA, Principle City   \n",
       "26704             Own                 NaN  MSA, Not Principle  City   \n",
       "26705            Rent            Employed                   Non-MSA   \n",
       "26706             Own  Not in Labor Force       MSA, Principle City   \n",
       "\n",
       "       no_of_adults  no_of_children  h1n1_vaccine  \n",
       "26697           1.0             0.0             0  \n",
       "26698           1.0             1.0             0  \n",
       "26699           1.0             0.0             0  \n",
       "26700           1.0             0.0             0  \n",
       "26701           3.0             0.0             0  \n",
       "26702           0.0             0.0             0  \n",
       "26703           1.0             0.0             0  \n",
       "26704           0.0             0.0             0  \n",
       "26705           1.0             0.0             0  \n",
       "26706           1.0             0.0             0  \n",
       "\n",
       "[10 rows x 34 columns]"
      ]
     },
     "execution_count": 158,
     "metadata": {},
     "output_type": "execute_result"
    }
   ],
   "source": [
    "d.tail(10)"
   ]
  },
  {
   "cell_type": "code",
   "execution_count": 159,
   "id": "f1408f01",
   "metadata": {},
   "outputs": [
    {
     "data": {
      "text/html": [
       "<div>\n",
       "<style scoped>\n",
       "    .dataframe tbody tr th:only-of-type {\n",
       "        vertical-align: middle;\n",
       "    }\n",
       "\n",
       "    .dataframe tbody tr th {\n",
       "        vertical-align: top;\n",
       "    }\n",
       "\n",
       "    .dataframe thead th {\n",
       "        text-align: right;\n",
       "    }\n",
       "</style>\n",
       "<table border=\"1\" class=\"dataframe\">\n",
       "  <thead>\n",
       "    <tr style=\"text-align: right;\">\n",
       "      <th></th>\n",
       "      <th>unique_id</th>\n",
       "      <th>h1n1_worry</th>\n",
       "      <th>h1n1_awareness</th>\n",
       "      <th>antiviral_medication</th>\n",
       "      <th>contact_avoidance</th>\n",
       "      <th>bought_face_mask</th>\n",
       "      <th>wash_hands_frequently</th>\n",
       "      <th>avoid_large_gatherings</th>\n",
       "      <th>reduced_outside_home_cont</th>\n",
       "      <th>avoid_touch_face</th>\n",
       "      <th>...</th>\n",
       "      <th>race</th>\n",
       "      <th>sex</th>\n",
       "      <th>income_level</th>\n",
       "      <th>marital_status</th>\n",
       "      <th>housing_status</th>\n",
       "      <th>employment</th>\n",
       "      <th>census_msa</th>\n",
       "      <th>no_of_adults</th>\n",
       "      <th>no_of_children</th>\n",
       "      <th>h1n1_vaccine</th>\n",
       "    </tr>\n",
       "  </thead>\n",
       "  <tbody>\n",
       "    <tr>\n",
       "      <th>11075</th>\n",
       "      <td>11075</td>\n",
       "      <td>2.0</td>\n",
       "      <td>2.0</td>\n",
       "      <td>0.0</td>\n",
       "      <td>1.0</td>\n",
       "      <td>0.0</td>\n",
       "      <td>1.0</td>\n",
       "      <td>0.0</td>\n",
       "      <td>1.0</td>\n",
       "      <td>1.0</td>\n",
       "      <td>...</td>\n",
       "      <td>White</td>\n",
       "      <td>Female</td>\n",
       "      <td>&lt;= $75,000, Above Poverty</td>\n",
       "      <td>Married</td>\n",
       "      <td>Own</td>\n",
       "      <td>Employed</td>\n",
       "      <td>MSA, Not Principle  City</td>\n",
       "      <td>1.0</td>\n",
       "      <td>2.0</td>\n",
       "      <td>0</td>\n",
       "    </tr>\n",
       "    <tr>\n",
       "      <th>430</th>\n",
       "      <td>430</td>\n",
       "      <td>2.0</td>\n",
       "      <td>2.0</td>\n",
       "      <td>0.0</td>\n",
       "      <td>1.0</td>\n",
       "      <td>0.0</td>\n",
       "      <td>1.0</td>\n",
       "      <td>1.0</td>\n",
       "      <td>1.0</td>\n",
       "      <td>0.0</td>\n",
       "      <td>...</td>\n",
       "      <td>White</td>\n",
       "      <td>Female</td>\n",
       "      <td>&lt;= $75,000, Above Poverty</td>\n",
       "      <td>Not Married</td>\n",
       "      <td>Own</td>\n",
       "      <td>Employed</td>\n",
       "      <td>MSA, Not Principle  City</td>\n",
       "      <td>0.0</td>\n",
       "      <td>0.0</td>\n",
       "      <td>0</td>\n",
       "    </tr>\n",
       "    <tr>\n",
       "      <th>5335</th>\n",
       "      <td>5335</td>\n",
       "      <td>2.0</td>\n",
       "      <td>0.0</td>\n",
       "      <td>0.0</td>\n",
       "      <td>0.0</td>\n",
       "      <td>0.0</td>\n",
       "      <td>1.0</td>\n",
       "      <td>0.0</td>\n",
       "      <td>0.0</td>\n",
       "      <td>1.0</td>\n",
       "      <td>...</td>\n",
       "      <td>Black</td>\n",
       "      <td>Female</td>\n",
       "      <td>&lt;= $75,000, Above Poverty</td>\n",
       "      <td>Married</td>\n",
       "      <td>Own</td>\n",
       "      <td>Employed</td>\n",
       "      <td>MSA, Not Principle  City</td>\n",
       "      <td>1.0</td>\n",
       "      <td>0.0</td>\n",
       "      <td>0</td>\n",
       "    </tr>\n",
       "    <tr>\n",
       "      <th>23097</th>\n",
       "      <td>23097</td>\n",
       "      <td>3.0</td>\n",
       "      <td>1.0</td>\n",
       "      <td>0.0</td>\n",
       "      <td>0.0</td>\n",
       "      <td>0.0</td>\n",
       "      <td>1.0</td>\n",
       "      <td>0.0</td>\n",
       "      <td>0.0</td>\n",
       "      <td>1.0</td>\n",
       "      <td>...</td>\n",
       "      <td>Hispanic</td>\n",
       "      <td>Male</td>\n",
       "      <td>Below Poverty</td>\n",
       "      <td>Not Married</td>\n",
       "      <td>Rent</td>\n",
       "      <td>Employed</td>\n",
       "      <td>MSA, Not Principle  City</td>\n",
       "      <td>0.0</td>\n",
       "      <td>0.0</td>\n",
       "      <td>0</td>\n",
       "    </tr>\n",
       "    <tr>\n",
       "      <th>23431</th>\n",
       "      <td>23431</td>\n",
       "      <td>3.0</td>\n",
       "      <td>1.0</td>\n",
       "      <td>0.0</td>\n",
       "      <td>1.0</td>\n",
       "      <td>0.0</td>\n",
       "      <td>1.0</td>\n",
       "      <td>1.0</td>\n",
       "      <td>1.0</td>\n",
       "      <td>1.0</td>\n",
       "      <td>...</td>\n",
       "      <td>Hispanic</td>\n",
       "      <td>Female</td>\n",
       "      <td>&lt;= $75,000, Above Poverty</td>\n",
       "      <td>Married</td>\n",
       "      <td>Own</td>\n",
       "      <td>Not in Labor Force</td>\n",
       "      <td>MSA, Not Principle  City</td>\n",
       "      <td>1.0</td>\n",
       "      <td>0.0</td>\n",
       "      <td>0</td>\n",
       "    </tr>\n",
       "    <tr>\n",
       "      <th>22110</th>\n",
       "      <td>22110</td>\n",
       "      <td>1.0</td>\n",
       "      <td>2.0</td>\n",
       "      <td>1.0</td>\n",
       "      <td>0.0</td>\n",
       "      <td>0.0</td>\n",
       "      <td>1.0</td>\n",
       "      <td>1.0</td>\n",
       "      <td>1.0</td>\n",
       "      <td>1.0</td>\n",
       "      <td>...</td>\n",
       "      <td>White</td>\n",
       "      <td>Female</td>\n",
       "      <td>Below Poverty</td>\n",
       "      <td>Not Married</td>\n",
       "      <td>Own</td>\n",
       "      <td>Not in Labor Force</td>\n",
       "      <td>Non-MSA</td>\n",
       "      <td>0.0</td>\n",
       "      <td>0.0</td>\n",
       "      <td>1</td>\n",
       "    </tr>\n",
       "    <tr>\n",
       "      <th>14625</th>\n",
       "      <td>14625</td>\n",
       "      <td>1.0</td>\n",
       "      <td>1.0</td>\n",
       "      <td>0.0</td>\n",
       "      <td>1.0</td>\n",
       "      <td>0.0</td>\n",
       "      <td>1.0</td>\n",
       "      <td>1.0</td>\n",
       "      <td>0.0</td>\n",
       "      <td>1.0</td>\n",
       "      <td>...</td>\n",
       "      <td>White</td>\n",
       "      <td>Male</td>\n",
       "      <td>&lt;= $75,000, Above Poverty</td>\n",
       "      <td>Married</td>\n",
       "      <td>Own</td>\n",
       "      <td>Employed</td>\n",
       "      <td>MSA, Principle City</td>\n",
       "      <td>2.0</td>\n",
       "      <td>0.0</td>\n",
       "      <td>0</td>\n",
       "    </tr>\n",
       "    <tr>\n",
       "      <th>21492</th>\n",
       "      <td>21492</td>\n",
       "      <td>2.0</td>\n",
       "      <td>1.0</td>\n",
       "      <td>0.0</td>\n",
       "      <td>0.0</td>\n",
       "      <td>0.0</td>\n",
       "      <td>0.0</td>\n",
       "      <td>0.0</td>\n",
       "      <td>0.0</td>\n",
       "      <td>1.0</td>\n",
       "      <td>...</td>\n",
       "      <td>White</td>\n",
       "      <td>Male</td>\n",
       "      <td>Below Poverty</td>\n",
       "      <td>Married</td>\n",
       "      <td>Rent</td>\n",
       "      <td>Unemployed</td>\n",
       "      <td>MSA, Not Principle  City</td>\n",
       "      <td>3.0</td>\n",
       "      <td>0.0</td>\n",
       "      <td>0</td>\n",
       "    </tr>\n",
       "    <tr>\n",
       "      <th>13102</th>\n",
       "      <td>13102</td>\n",
       "      <td>0.0</td>\n",
       "      <td>1.0</td>\n",
       "      <td>0.0</td>\n",
       "      <td>0.0</td>\n",
       "      <td>0.0</td>\n",
       "      <td>0.0</td>\n",
       "      <td>0.0</td>\n",
       "      <td>0.0</td>\n",
       "      <td>1.0</td>\n",
       "      <td>...</td>\n",
       "      <td>White</td>\n",
       "      <td>Male</td>\n",
       "      <td>&lt;= $75,000, Above Poverty</td>\n",
       "      <td>Not Married</td>\n",
       "      <td>Own</td>\n",
       "      <td>Employed</td>\n",
       "      <td>Non-MSA</td>\n",
       "      <td>2.0</td>\n",
       "      <td>0.0</td>\n",
       "      <td>0</td>\n",
       "    </tr>\n",
       "    <tr>\n",
       "      <th>17975</th>\n",
       "      <td>17975</td>\n",
       "      <td>0.0</td>\n",
       "      <td>1.0</td>\n",
       "      <td>0.0</td>\n",
       "      <td>0.0</td>\n",
       "      <td>0.0</td>\n",
       "      <td>0.0</td>\n",
       "      <td>0.0</td>\n",
       "      <td>0.0</td>\n",
       "      <td>0.0</td>\n",
       "      <td>...</td>\n",
       "      <td>White</td>\n",
       "      <td>Male</td>\n",
       "      <td>&lt;= $75,000, Above Poverty</td>\n",
       "      <td>Married</td>\n",
       "      <td>Own</td>\n",
       "      <td>Employed</td>\n",
       "      <td>Non-MSA</td>\n",
       "      <td>2.0</td>\n",
       "      <td>0.0</td>\n",
       "      <td>0</td>\n",
       "    </tr>\n",
       "  </tbody>\n",
       "</table>\n",
       "<p>10 rows × 34 columns</p>\n",
       "</div>"
      ],
      "text/plain": [
       "       unique_id  h1n1_worry  h1n1_awareness  antiviral_medication  \\\n",
       "11075      11075         2.0             2.0                   0.0   \n",
       "430          430         2.0             2.0                   0.0   \n",
       "5335        5335         2.0             0.0                   0.0   \n",
       "23097      23097         3.0             1.0                   0.0   \n",
       "23431      23431         3.0             1.0                   0.0   \n",
       "22110      22110         1.0             2.0                   1.0   \n",
       "14625      14625         1.0             1.0                   0.0   \n",
       "21492      21492         2.0             1.0                   0.0   \n",
       "13102      13102         0.0             1.0                   0.0   \n",
       "17975      17975         0.0             1.0                   0.0   \n",
       "\n",
       "       contact_avoidance  bought_face_mask  wash_hands_frequently  \\\n",
       "11075                1.0               0.0                    1.0   \n",
       "430                  1.0               0.0                    1.0   \n",
       "5335                 0.0               0.0                    1.0   \n",
       "23097                0.0               0.0                    1.0   \n",
       "23431                1.0               0.0                    1.0   \n",
       "22110                0.0               0.0                    1.0   \n",
       "14625                1.0               0.0                    1.0   \n",
       "21492                0.0               0.0                    0.0   \n",
       "13102                0.0               0.0                    0.0   \n",
       "17975                0.0               0.0                    0.0   \n",
       "\n",
       "       avoid_large_gatherings  reduced_outside_home_cont  avoid_touch_face  \\\n",
       "11075                     0.0                        1.0               1.0   \n",
       "430                       1.0                        1.0               0.0   \n",
       "5335                      0.0                        0.0               1.0   \n",
       "23097                     0.0                        0.0               1.0   \n",
       "23431                     1.0                        1.0               1.0   \n",
       "22110                     1.0                        1.0               1.0   \n",
       "14625                     1.0                        0.0               1.0   \n",
       "21492                     0.0                        0.0               1.0   \n",
       "13102                     0.0                        0.0               1.0   \n",
       "17975                     0.0                        0.0               0.0   \n",
       "\n",
       "       ...      race     sex               income_level  marital_status  \\\n",
       "11075  ...     White  Female  <= $75,000, Above Poverty         Married   \n",
       "430    ...     White  Female  <= $75,000, Above Poverty     Not Married   \n",
       "5335   ...     Black  Female  <= $75,000, Above Poverty         Married   \n",
       "23097  ...  Hispanic    Male              Below Poverty     Not Married   \n",
       "23431  ...  Hispanic  Female  <= $75,000, Above Poverty         Married   \n",
       "22110  ...     White  Female              Below Poverty     Not Married   \n",
       "14625  ...     White    Male  <= $75,000, Above Poverty         Married   \n",
       "21492  ...     White    Male              Below Poverty         Married   \n",
       "13102  ...     White    Male  <= $75,000, Above Poverty     Not Married   \n",
       "17975  ...     White    Male  <= $75,000, Above Poverty         Married   \n",
       "\n",
       "       housing_status          employment                census_msa  \\\n",
       "11075             Own            Employed  MSA, Not Principle  City   \n",
       "430               Own            Employed  MSA, Not Principle  City   \n",
       "5335              Own            Employed  MSA, Not Principle  City   \n",
       "23097            Rent            Employed  MSA, Not Principle  City   \n",
       "23431             Own  Not in Labor Force  MSA, Not Principle  City   \n",
       "22110             Own  Not in Labor Force                   Non-MSA   \n",
       "14625             Own            Employed       MSA, Principle City   \n",
       "21492            Rent          Unemployed  MSA, Not Principle  City   \n",
       "13102             Own            Employed                   Non-MSA   \n",
       "17975             Own            Employed                   Non-MSA   \n",
       "\n",
       "       no_of_adults  no_of_children  h1n1_vaccine  \n",
       "11075           1.0             2.0             0  \n",
       "430             0.0             0.0             0  \n",
       "5335            1.0             0.0             0  \n",
       "23097           0.0             0.0             0  \n",
       "23431           1.0             0.0             0  \n",
       "22110           0.0             0.0             1  \n",
       "14625           2.0             0.0             0  \n",
       "21492           3.0             0.0             0  \n",
       "13102           2.0             0.0             0  \n",
       "17975           2.0             0.0             0  \n",
       "\n",
       "[10 rows x 34 columns]"
      ]
     },
     "execution_count": 159,
     "metadata": {},
     "output_type": "execute_result"
    }
   ],
   "source": [
    "d.sample(10)"
   ]
  },
  {
   "cell_type": "code",
   "execution_count": 160,
   "id": "6692bc3c",
   "metadata": {},
   "outputs": [
    {
     "data": {
      "text/plain": [
       "(26707, 34)"
      ]
     },
     "execution_count": 160,
     "metadata": {},
     "output_type": "execute_result"
    }
   ],
   "source": [
    "d.shape"
   ]
  },
  {
   "cell_type": "code",
   "execution_count": 161,
   "id": "52575981",
   "metadata": {},
   "outputs": [
    {
     "data": {
      "text/plain": [
       "unique_id                      int64\n",
       "h1n1_worry                   float64\n",
       "h1n1_awareness               float64\n",
       "antiviral_medication         float64\n",
       "contact_avoidance            float64\n",
       "bought_face_mask             float64\n",
       "wash_hands_frequently        float64\n",
       "avoid_large_gatherings       float64\n",
       "reduced_outside_home_cont    float64\n",
       "avoid_touch_face             float64\n",
       "dr_recc_h1n1_vacc            float64\n",
       "dr_recc_seasonal_vacc        float64\n",
       "chronic_medic_condition      float64\n",
       "cont_child_undr_6_mnths      float64\n",
       "is_health_worker             float64\n",
       "has_health_insur             float64\n",
       "is_h1n1_vacc_effective       float64\n",
       "is_h1n1_risky                float64\n",
       "sick_from_h1n1_vacc          float64\n",
       "is_seas_vacc_effective       float64\n",
       "is_seas_risky                float64\n",
       "sick_from_seas_vacc          float64\n",
       "age_bracket                   object\n",
       "qualification                 object\n",
       "race                          object\n",
       "sex                           object\n",
       "income_level                  object\n",
       "marital_status                object\n",
       "housing_status                object\n",
       "employment                    object\n",
       "census_msa                    object\n",
       "no_of_adults                 float64\n",
       "no_of_children               float64\n",
       "h1n1_vaccine                   int64\n",
       "dtype: object"
      ]
     },
     "execution_count": 161,
     "metadata": {},
     "output_type": "execute_result"
    }
   ],
   "source": [
    "d.dtypes"
   ]
  },
  {
   "cell_type": "code",
   "execution_count": 162,
   "id": "9a8dd57b",
   "metadata": {},
   "outputs": [
    {
     "data": {
      "text/plain": [
       "Index(['unique_id', 'h1n1_worry', 'h1n1_awareness', 'antiviral_medication',\n",
       "       'contact_avoidance', 'bought_face_mask', 'wash_hands_frequently',\n",
       "       'avoid_large_gatherings', 'reduced_outside_home_cont',\n",
       "       'avoid_touch_face', 'dr_recc_h1n1_vacc', 'dr_recc_seasonal_vacc',\n",
       "       'chronic_medic_condition', 'cont_child_undr_6_mnths',\n",
       "       'is_health_worker', 'has_health_insur', 'is_h1n1_vacc_effective',\n",
       "       'is_h1n1_risky', 'sick_from_h1n1_vacc', 'is_seas_vacc_effective',\n",
       "       'is_seas_risky', 'sick_from_seas_vacc', 'age_bracket', 'qualification',\n",
       "       'race', 'sex', 'income_level', 'marital_status', 'housing_status',\n",
       "       'employment', 'census_msa', 'no_of_adults', 'no_of_children',\n",
       "       'h1n1_vaccine'],\n",
       "      dtype='object')"
      ]
     },
     "execution_count": 162,
     "metadata": {},
     "output_type": "execute_result"
    }
   ],
   "source": [
    "d.columns"
   ]
  },
  {
   "cell_type": "code",
   "execution_count": 163,
   "id": "a08257c2",
   "metadata": {},
   "outputs": [
    {
     "data": {
      "text/plain": [
       "unique_id                    13353.0\n",
       "h1n1_worry                       2.0\n",
       "h1n1_awareness                   1.0\n",
       "antiviral_medication             0.0\n",
       "contact_avoidance                1.0\n",
       "bought_face_mask                 0.0\n",
       "wash_hands_frequently            1.0\n",
       "avoid_large_gatherings           0.0\n",
       "reduced_outside_home_cont        0.0\n",
       "avoid_touch_face                 1.0\n",
       "dr_recc_h1n1_vacc                0.0\n",
       "dr_recc_seasonal_vacc            0.0\n",
       "chronic_medic_condition          0.0\n",
       "cont_child_undr_6_mnths          0.0\n",
       "is_health_worker                 0.0\n",
       "has_health_insur                 1.0\n",
       "is_h1n1_vacc_effective           4.0\n",
       "is_h1n1_risky                    2.0\n",
       "sick_from_h1n1_vacc              2.0\n",
       "is_seas_vacc_effective           4.0\n",
       "is_seas_risky                    2.0\n",
       "sick_from_seas_vacc              2.0\n",
       "no_of_adults                     1.0\n",
       "no_of_children                   0.0\n",
       "h1n1_vaccine                     0.0\n",
       "dtype: float64"
      ]
     },
     "execution_count": 163,
     "metadata": {},
     "output_type": "execute_result"
    }
   ],
   "source": [
    "d.median()"
   ]
  },
  {
   "cell_type": "code",
   "execution_count": 164,
   "id": "56d205c1",
   "metadata": {},
   "outputs": [
    {
     "name": "stdout",
     "output_type": "stream",
     "text": [
      "<class 'pandas.core.frame.DataFrame'>\n",
      "RangeIndex: 26707 entries, 0 to 26706\n",
      "Data columns (total 34 columns):\n",
      " #   Column                     Non-Null Count  Dtype  \n",
      "---  ------                     --------------  -----  \n",
      " 0   unique_id                  26707 non-null  int64  \n",
      " 1   h1n1_worry                 26615 non-null  float64\n",
      " 2   h1n1_awareness             26591 non-null  float64\n",
      " 3   antiviral_medication       26636 non-null  float64\n",
      " 4   contact_avoidance          26499 non-null  float64\n",
      " 5   bought_face_mask           26688 non-null  float64\n",
      " 6   wash_hands_frequently      26665 non-null  float64\n",
      " 7   avoid_large_gatherings     26620 non-null  float64\n",
      " 8   reduced_outside_home_cont  26625 non-null  float64\n",
      " 9   avoid_touch_face           26579 non-null  float64\n",
      " 10  dr_recc_h1n1_vacc          24547 non-null  float64\n",
      " 11  dr_recc_seasonal_vacc      24547 non-null  float64\n",
      " 12  chronic_medic_condition    25736 non-null  float64\n",
      " 13  cont_child_undr_6_mnths    25887 non-null  float64\n",
      " 14  is_health_worker           25903 non-null  float64\n",
      " 15  has_health_insur           14433 non-null  float64\n",
      " 16  is_h1n1_vacc_effective     26316 non-null  float64\n",
      " 17  is_h1n1_risky              26319 non-null  float64\n",
      " 18  sick_from_h1n1_vacc        26312 non-null  float64\n",
      " 19  is_seas_vacc_effective     26245 non-null  float64\n",
      " 20  is_seas_risky              26193 non-null  float64\n",
      " 21  sick_from_seas_vacc        26170 non-null  float64\n",
      " 22  age_bracket                26707 non-null  object \n",
      " 23  qualification              25300 non-null  object \n",
      " 24  race                       26707 non-null  object \n",
      " 25  sex                        26707 non-null  object \n",
      " 26  income_level               22284 non-null  object \n",
      " 27  marital_status             25299 non-null  object \n",
      " 28  housing_status             24665 non-null  object \n",
      " 29  employment                 25244 non-null  object \n",
      " 30  census_msa                 26707 non-null  object \n",
      " 31  no_of_adults               26458 non-null  float64\n",
      " 32  no_of_children             26458 non-null  float64\n",
      " 33  h1n1_vaccine               26707 non-null  int64  \n",
      "dtypes: float64(23), int64(2), object(9)\n",
      "memory usage: 6.9+ MB\n"
     ]
    }
   ],
   "source": [
    "d.info()"
   ]
  },
  {
   "cell_type": "code",
   "execution_count": 165,
   "id": "1e4be5f0",
   "metadata": {},
   "outputs": [
    {
     "data": {
      "text/plain": [
       "unique_id                        0\n",
       "h1n1_worry                      92\n",
       "h1n1_awareness                 116\n",
       "antiviral_medication            71\n",
       "contact_avoidance              208\n",
       "bought_face_mask                19\n",
       "wash_hands_frequently           42\n",
       "avoid_large_gatherings          87\n",
       "reduced_outside_home_cont       82\n",
       "avoid_touch_face               128\n",
       "dr_recc_h1n1_vacc             2160\n",
       "dr_recc_seasonal_vacc         2160\n",
       "chronic_medic_condition        971\n",
       "cont_child_undr_6_mnths        820\n",
       "is_health_worker               804\n",
       "has_health_insur             12274\n",
       "is_h1n1_vacc_effective         391\n",
       "is_h1n1_risky                  388\n",
       "sick_from_h1n1_vacc            395\n",
       "is_seas_vacc_effective         462\n",
       "is_seas_risky                  514\n",
       "sick_from_seas_vacc            537\n",
       "age_bracket                      0\n",
       "qualification                 1407\n",
       "race                             0\n",
       "sex                              0\n",
       "income_level                  4423\n",
       "marital_status                1408\n",
       "housing_status                2042\n",
       "employment                    1463\n",
       "census_msa                       0\n",
       "no_of_adults                   249\n",
       "no_of_children                 249\n",
       "h1n1_vaccine                     0\n",
       "dtype: int64"
      ]
     },
     "execution_count": 165,
     "metadata": {},
     "output_type": "execute_result"
    }
   ],
   "source": [
    "d.isnull().sum()"
   ]
  },
  {
   "cell_type": "code",
   "execution_count": 166,
   "id": "9580caf3",
   "metadata": {},
   "outputs": [
    {
     "data": {
      "text/html": [
       "<div>\n",
       "<style scoped>\n",
       "    .dataframe tbody tr th:only-of-type {\n",
       "        vertical-align: middle;\n",
       "    }\n",
       "\n",
       "    .dataframe tbody tr th {\n",
       "        vertical-align: top;\n",
       "    }\n",
       "\n",
       "    .dataframe thead th {\n",
       "        text-align: right;\n",
       "    }\n",
       "</style>\n",
       "<table border=\"1\" class=\"dataframe\">\n",
       "  <thead>\n",
       "    <tr style=\"text-align: right;\">\n",
       "      <th></th>\n",
       "      <th>unique_id</th>\n",
       "      <th>h1n1_worry</th>\n",
       "      <th>h1n1_awareness</th>\n",
       "      <th>antiviral_medication</th>\n",
       "      <th>contact_avoidance</th>\n",
       "      <th>bought_face_mask</th>\n",
       "      <th>wash_hands_frequently</th>\n",
       "      <th>avoid_large_gatherings</th>\n",
       "      <th>reduced_outside_home_cont</th>\n",
       "      <th>avoid_touch_face</th>\n",
       "      <th>...</th>\n",
       "      <th>race</th>\n",
       "      <th>sex</th>\n",
       "      <th>income_level</th>\n",
       "      <th>marital_status</th>\n",
       "      <th>housing_status</th>\n",
       "      <th>employment</th>\n",
       "      <th>census_msa</th>\n",
       "      <th>no_of_adults</th>\n",
       "      <th>no_of_children</th>\n",
       "      <th>h1n1_vaccine</th>\n",
       "    </tr>\n",
       "  </thead>\n",
       "  <tbody>\n",
       "    <tr>\n",
       "      <th>count</th>\n",
       "      <td>26707.000000</td>\n",
       "      <td>26615.000000</td>\n",
       "      <td>26591.000000</td>\n",
       "      <td>26636.000000</td>\n",
       "      <td>26499.000000</td>\n",
       "      <td>26688.000000</td>\n",
       "      <td>26665.000000</td>\n",
       "      <td>26620.00000</td>\n",
       "      <td>26625.000000</td>\n",
       "      <td>26579.000000</td>\n",
       "      <td>...</td>\n",
       "      <td>26707</td>\n",
       "      <td>26707</td>\n",
       "      <td>22284</td>\n",
       "      <td>25299</td>\n",
       "      <td>24665</td>\n",
       "      <td>25244</td>\n",
       "      <td>26707</td>\n",
       "      <td>26458.000000</td>\n",
       "      <td>26458.000000</td>\n",
       "      <td>26707.000000</td>\n",
       "    </tr>\n",
       "    <tr>\n",
       "      <th>unique</th>\n",
       "      <td>NaN</td>\n",
       "      <td>NaN</td>\n",
       "      <td>NaN</td>\n",
       "      <td>NaN</td>\n",
       "      <td>NaN</td>\n",
       "      <td>NaN</td>\n",
       "      <td>NaN</td>\n",
       "      <td>NaN</td>\n",
       "      <td>NaN</td>\n",
       "      <td>NaN</td>\n",
       "      <td>...</td>\n",
       "      <td>4</td>\n",
       "      <td>2</td>\n",
       "      <td>3</td>\n",
       "      <td>2</td>\n",
       "      <td>2</td>\n",
       "      <td>3</td>\n",
       "      <td>3</td>\n",
       "      <td>NaN</td>\n",
       "      <td>NaN</td>\n",
       "      <td>NaN</td>\n",
       "    </tr>\n",
       "    <tr>\n",
       "      <th>top</th>\n",
       "      <td>NaN</td>\n",
       "      <td>NaN</td>\n",
       "      <td>NaN</td>\n",
       "      <td>NaN</td>\n",
       "      <td>NaN</td>\n",
       "      <td>NaN</td>\n",
       "      <td>NaN</td>\n",
       "      <td>NaN</td>\n",
       "      <td>NaN</td>\n",
       "      <td>NaN</td>\n",
       "      <td>...</td>\n",
       "      <td>White</td>\n",
       "      <td>Female</td>\n",
       "      <td>&lt;= $75,000, Above Poverty</td>\n",
       "      <td>Married</td>\n",
       "      <td>Own</td>\n",
       "      <td>Employed</td>\n",
       "      <td>MSA, Not Principle  City</td>\n",
       "      <td>NaN</td>\n",
       "      <td>NaN</td>\n",
       "      <td>NaN</td>\n",
       "    </tr>\n",
       "    <tr>\n",
       "      <th>freq</th>\n",
       "      <td>NaN</td>\n",
       "      <td>NaN</td>\n",
       "      <td>NaN</td>\n",
       "      <td>NaN</td>\n",
       "      <td>NaN</td>\n",
       "      <td>NaN</td>\n",
       "      <td>NaN</td>\n",
       "      <td>NaN</td>\n",
       "      <td>NaN</td>\n",
       "      <td>NaN</td>\n",
       "      <td>...</td>\n",
       "      <td>21222</td>\n",
       "      <td>15858</td>\n",
       "      <td>12777</td>\n",
       "      <td>13555</td>\n",
       "      <td>18736</td>\n",
       "      <td>13560</td>\n",
       "      <td>11645</td>\n",
       "      <td>NaN</td>\n",
       "      <td>NaN</td>\n",
       "      <td>NaN</td>\n",
       "    </tr>\n",
       "    <tr>\n",
       "      <th>mean</th>\n",
       "      <td>13353.000000</td>\n",
       "      <td>1.618486</td>\n",
       "      <td>1.262532</td>\n",
       "      <td>0.048844</td>\n",
       "      <td>0.725612</td>\n",
       "      <td>0.068982</td>\n",
       "      <td>0.825614</td>\n",
       "      <td>0.35864</td>\n",
       "      <td>0.337315</td>\n",
       "      <td>0.677264</td>\n",
       "      <td>...</td>\n",
       "      <td>NaN</td>\n",
       "      <td>NaN</td>\n",
       "      <td>NaN</td>\n",
       "      <td>NaN</td>\n",
       "      <td>NaN</td>\n",
       "      <td>NaN</td>\n",
       "      <td>NaN</td>\n",
       "      <td>0.886499</td>\n",
       "      <td>0.534583</td>\n",
       "      <td>0.212454</td>\n",
       "    </tr>\n",
       "    <tr>\n",
       "      <th>std</th>\n",
       "      <td>7709.791156</td>\n",
       "      <td>0.910311</td>\n",
       "      <td>0.618149</td>\n",
       "      <td>0.215545</td>\n",
       "      <td>0.446214</td>\n",
       "      <td>0.253429</td>\n",
       "      <td>0.379448</td>\n",
       "      <td>0.47961</td>\n",
       "      <td>0.472802</td>\n",
       "      <td>0.467531</td>\n",
       "      <td>...</td>\n",
       "      <td>NaN</td>\n",
       "      <td>NaN</td>\n",
       "      <td>NaN</td>\n",
       "      <td>NaN</td>\n",
       "      <td>NaN</td>\n",
       "      <td>NaN</td>\n",
       "      <td>NaN</td>\n",
       "      <td>0.753422</td>\n",
       "      <td>0.928173</td>\n",
       "      <td>0.409052</td>\n",
       "    </tr>\n",
       "    <tr>\n",
       "      <th>min</th>\n",
       "      <td>0.000000</td>\n",
       "      <td>0.000000</td>\n",
       "      <td>0.000000</td>\n",
       "      <td>0.000000</td>\n",
       "      <td>0.000000</td>\n",
       "      <td>0.000000</td>\n",
       "      <td>0.000000</td>\n",
       "      <td>0.00000</td>\n",
       "      <td>0.000000</td>\n",
       "      <td>0.000000</td>\n",
       "      <td>...</td>\n",
       "      <td>NaN</td>\n",
       "      <td>NaN</td>\n",
       "      <td>NaN</td>\n",
       "      <td>NaN</td>\n",
       "      <td>NaN</td>\n",
       "      <td>NaN</td>\n",
       "      <td>NaN</td>\n",
       "      <td>0.000000</td>\n",
       "      <td>0.000000</td>\n",
       "      <td>0.000000</td>\n",
       "    </tr>\n",
       "    <tr>\n",
       "      <th>25%</th>\n",
       "      <td>6676.500000</td>\n",
       "      <td>1.000000</td>\n",
       "      <td>1.000000</td>\n",
       "      <td>0.000000</td>\n",
       "      <td>0.000000</td>\n",
       "      <td>0.000000</td>\n",
       "      <td>1.000000</td>\n",
       "      <td>0.00000</td>\n",
       "      <td>0.000000</td>\n",
       "      <td>0.000000</td>\n",
       "      <td>...</td>\n",
       "      <td>NaN</td>\n",
       "      <td>NaN</td>\n",
       "      <td>NaN</td>\n",
       "      <td>NaN</td>\n",
       "      <td>NaN</td>\n",
       "      <td>NaN</td>\n",
       "      <td>NaN</td>\n",
       "      <td>0.000000</td>\n",
       "      <td>0.000000</td>\n",
       "      <td>0.000000</td>\n",
       "    </tr>\n",
       "    <tr>\n",
       "      <th>50%</th>\n",
       "      <td>13353.000000</td>\n",
       "      <td>2.000000</td>\n",
       "      <td>1.000000</td>\n",
       "      <td>0.000000</td>\n",
       "      <td>1.000000</td>\n",
       "      <td>0.000000</td>\n",
       "      <td>1.000000</td>\n",
       "      <td>0.00000</td>\n",
       "      <td>0.000000</td>\n",
       "      <td>1.000000</td>\n",
       "      <td>...</td>\n",
       "      <td>NaN</td>\n",
       "      <td>NaN</td>\n",
       "      <td>NaN</td>\n",
       "      <td>NaN</td>\n",
       "      <td>NaN</td>\n",
       "      <td>NaN</td>\n",
       "      <td>NaN</td>\n",
       "      <td>1.000000</td>\n",
       "      <td>0.000000</td>\n",
       "      <td>0.000000</td>\n",
       "    </tr>\n",
       "    <tr>\n",
       "      <th>75%</th>\n",
       "      <td>20029.500000</td>\n",
       "      <td>2.000000</td>\n",
       "      <td>2.000000</td>\n",
       "      <td>0.000000</td>\n",
       "      <td>1.000000</td>\n",
       "      <td>0.000000</td>\n",
       "      <td>1.000000</td>\n",
       "      <td>1.00000</td>\n",
       "      <td>1.000000</td>\n",
       "      <td>1.000000</td>\n",
       "      <td>...</td>\n",
       "      <td>NaN</td>\n",
       "      <td>NaN</td>\n",
       "      <td>NaN</td>\n",
       "      <td>NaN</td>\n",
       "      <td>NaN</td>\n",
       "      <td>NaN</td>\n",
       "      <td>NaN</td>\n",
       "      <td>1.000000</td>\n",
       "      <td>1.000000</td>\n",
       "      <td>0.000000</td>\n",
       "    </tr>\n",
       "    <tr>\n",
       "      <th>max</th>\n",
       "      <td>26706.000000</td>\n",
       "      <td>3.000000</td>\n",
       "      <td>2.000000</td>\n",
       "      <td>1.000000</td>\n",
       "      <td>1.000000</td>\n",
       "      <td>1.000000</td>\n",
       "      <td>1.000000</td>\n",
       "      <td>1.00000</td>\n",
       "      <td>1.000000</td>\n",
       "      <td>1.000000</td>\n",
       "      <td>...</td>\n",
       "      <td>NaN</td>\n",
       "      <td>NaN</td>\n",
       "      <td>NaN</td>\n",
       "      <td>NaN</td>\n",
       "      <td>NaN</td>\n",
       "      <td>NaN</td>\n",
       "      <td>NaN</td>\n",
       "      <td>3.000000</td>\n",
       "      <td>3.000000</td>\n",
       "      <td>1.000000</td>\n",
       "    </tr>\n",
       "  </tbody>\n",
       "</table>\n",
       "<p>11 rows × 34 columns</p>\n",
       "</div>"
      ],
      "text/plain": [
       "           unique_id    h1n1_worry  h1n1_awareness  antiviral_medication  \\\n",
       "count   26707.000000  26615.000000    26591.000000          26636.000000   \n",
       "unique           NaN           NaN             NaN                   NaN   \n",
       "top              NaN           NaN             NaN                   NaN   \n",
       "freq             NaN           NaN             NaN                   NaN   \n",
       "mean    13353.000000      1.618486        1.262532              0.048844   \n",
       "std      7709.791156      0.910311        0.618149              0.215545   \n",
       "min         0.000000      0.000000        0.000000              0.000000   \n",
       "25%      6676.500000      1.000000        1.000000              0.000000   \n",
       "50%     13353.000000      2.000000        1.000000              0.000000   \n",
       "75%     20029.500000      2.000000        2.000000              0.000000   \n",
       "max     26706.000000      3.000000        2.000000              1.000000   \n",
       "\n",
       "        contact_avoidance  bought_face_mask  wash_hands_frequently  \\\n",
       "count        26499.000000      26688.000000           26665.000000   \n",
       "unique                NaN               NaN                    NaN   \n",
       "top                   NaN               NaN                    NaN   \n",
       "freq                  NaN               NaN                    NaN   \n",
       "mean             0.725612          0.068982               0.825614   \n",
       "std              0.446214          0.253429               0.379448   \n",
       "min              0.000000          0.000000               0.000000   \n",
       "25%              0.000000          0.000000               1.000000   \n",
       "50%              1.000000          0.000000               1.000000   \n",
       "75%              1.000000          0.000000               1.000000   \n",
       "max              1.000000          1.000000               1.000000   \n",
       "\n",
       "        avoid_large_gatherings  reduced_outside_home_cont  avoid_touch_face  \\\n",
       "count              26620.00000               26625.000000      26579.000000   \n",
       "unique                     NaN                        NaN               NaN   \n",
       "top                        NaN                        NaN               NaN   \n",
       "freq                       NaN                        NaN               NaN   \n",
       "mean                   0.35864                   0.337315          0.677264   \n",
       "std                    0.47961                   0.472802          0.467531   \n",
       "min                    0.00000                   0.000000          0.000000   \n",
       "25%                    0.00000                   0.000000          0.000000   \n",
       "50%                    0.00000                   0.000000          1.000000   \n",
       "75%                    1.00000                   1.000000          1.000000   \n",
       "max                    1.00000                   1.000000          1.000000   \n",
       "\n",
       "        ...   race     sex               income_level  marital_status  \\\n",
       "count   ...  26707   26707                      22284           25299   \n",
       "unique  ...      4       2                          3               2   \n",
       "top     ...  White  Female  <= $75,000, Above Poverty         Married   \n",
       "freq    ...  21222   15858                      12777           13555   \n",
       "mean    ...    NaN     NaN                        NaN             NaN   \n",
       "std     ...    NaN     NaN                        NaN             NaN   \n",
       "min     ...    NaN     NaN                        NaN             NaN   \n",
       "25%     ...    NaN     NaN                        NaN             NaN   \n",
       "50%     ...    NaN     NaN                        NaN             NaN   \n",
       "75%     ...    NaN     NaN                        NaN             NaN   \n",
       "max     ...    NaN     NaN                        NaN             NaN   \n",
       "\n",
       "        housing_status  employment                census_msa  no_of_adults  \\\n",
       "count            24665       25244                     26707  26458.000000   \n",
       "unique               2           3                         3           NaN   \n",
       "top                Own    Employed  MSA, Not Principle  City           NaN   \n",
       "freq             18736       13560                     11645           NaN   \n",
       "mean               NaN         NaN                       NaN      0.886499   \n",
       "std                NaN         NaN                       NaN      0.753422   \n",
       "min                NaN         NaN                       NaN      0.000000   \n",
       "25%                NaN         NaN                       NaN      0.000000   \n",
       "50%                NaN         NaN                       NaN      1.000000   \n",
       "75%                NaN         NaN                       NaN      1.000000   \n",
       "max                NaN         NaN                       NaN      3.000000   \n",
       "\n",
       "        no_of_children  h1n1_vaccine  \n",
       "count     26458.000000  26707.000000  \n",
       "unique             NaN           NaN  \n",
       "top                NaN           NaN  \n",
       "freq               NaN           NaN  \n",
       "mean          0.534583      0.212454  \n",
       "std           0.928173      0.409052  \n",
       "min           0.000000      0.000000  \n",
       "25%           0.000000      0.000000  \n",
       "50%           0.000000      0.000000  \n",
       "75%           1.000000      0.000000  \n",
       "max           3.000000      1.000000  \n",
       "\n",
       "[11 rows x 34 columns]"
      ]
     },
     "execution_count": 166,
     "metadata": {},
     "output_type": "execute_result"
    }
   ],
   "source": [
    "d.describe(include=\"all\")"
   ]
  },
  {
   "cell_type": "code",
   "execution_count": 167,
   "id": "4030340a",
   "metadata": {},
   "outputs": [
    {
     "data": {
      "text/plain": [
       "array([[<AxesSubplot:title={'center':'unique_id'}>,\n",
       "        <AxesSubplot:title={'center':'h1n1_worry'}>,\n",
       "        <AxesSubplot:title={'center':'h1n1_awareness'}>,\n",
       "        <AxesSubplot:title={'center':'antiviral_medication'}>,\n",
       "        <AxesSubplot:title={'center':'contact_avoidance'}>],\n",
       "       [<AxesSubplot:title={'center':'bought_face_mask'}>,\n",
       "        <AxesSubplot:title={'center':'wash_hands_frequently'}>,\n",
       "        <AxesSubplot:title={'center':'avoid_large_gatherings'}>,\n",
       "        <AxesSubplot:title={'center':'reduced_outside_home_cont'}>,\n",
       "        <AxesSubplot:title={'center':'avoid_touch_face'}>],\n",
       "       [<AxesSubplot:title={'center':'dr_recc_h1n1_vacc'}>,\n",
       "        <AxesSubplot:title={'center':'dr_recc_seasonal_vacc'}>,\n",
       "        <AxesSubplot:title={'center':'chronic_medic_condition'}>,\n",
       "        <AxesSubplot:title={'center':'cont_child_undr_6_mnths'}>,\n",
       "        <AxesSubplot:title={'center':'is_health_worker'}>],\n",
       "       [<AxesSubplot:title={'center':'has_health_insur'}>,\n",
       "        <AxesSubplot:title={'center':'is_h1n1_vacc_effective'}>,\n",
       "        <AxesSubplot:title={'center':'is_h1n1_risky'}>,\n",
       "        <AxesSubplot:title={'center':'sick_from_h1n1_vacc'}>,\n",
       "        <AxesSubplot:title={'center':'is_seas_vacc_effective'}>],\n",
       "       [<AxesSubplot:title={'center':'is_seas_risky'}>,\n",
       "        <AxesSubplot:title={'center':'sick_from_seas_vacc'}>,\n",
       "        <AxesSubplot:title={'center':'no_of_adults'}>,\n",
       "        <AxesSubplot:title={'center':'no_of_children'}>,\n",
       "        <AxesSubplot:title={'center':'h1n1_vaccine'}>]], dtype=object)"
      ]
     },
     "execution_count": 167,
     "metadata": {},
     "output_type": "execute_result"
    },
    {
     "data": {
      "image/png": "[encoded data removed]",
      "text/plain": [
       "<Figure size 2000x2000 with 25 Axes>"
      ]
     },
     "metadata": {},
     "output_type": "display_data"
    }
   ],
   "source": [
    "d.hist(figsize=(20,20))"
   ]
  },
  {
   "cell_type": "code",
   "execution_count": 168,
   "id": "c2072a7a",
   "metadata": {},
   "outputs": [
    {
     "data": {
      "text/plain": [
       "float64    23\n",
       "object      9\n",
       "int64       2\n",
       "dtype: int64"
      ]
     },
     "execution_count": 168,
     "metadata": {},
     "output_type": "execute_result"
    }
   ],
   "source": [
    "d.dtypes.value_counts()"
   ]
  },
  {
   "cell_type": "markdown",
   "id": "fd741655",
   "metadata": {},
   "source": [
    "## Data Cleaning and Pruning"
   ]
  },
  {
   "cell_type": "code",
   "execution_count": 169,
   "id": "79112a01",
   "metadata": {},
   "outputs": [],
   "source": [
    "d.drop(['unique_id'], inplace = True, axis = 1)"
   ]
  },
  {
   "cell_type": "code",
   "execution_count": 170,
   "id": "32e82033",
   "metadata": {},
   "outputs": [
    {
     "data": {
      "text/plain": [
       "h1n1_worry                      92\n",
       "h1n1_awareness                 116\n",
       "antiviral_medication            71\n",
       "contact_avoidance              208\n",
       "bought_face_mask                19\n",
       "wash_hands_frequently           42\n",
       "avoid_large_gatherings          87\n",
       "reduced_outside_home_cont       82\n",
       "avoid_touch_face               128\n",
       "dr_recc_h1n1_vacc             2160\n",
       "dr_recc_seasonal_vacc         2160\n",
       "chronic_medic_condition        971\n",
       "cont_child_undr_6_mnths        820\n",
       "is_health_worker               804\n",
       "has_health_insur             12274\n",
       "is_h1n1_vacc_effective         391\n",
       "is_h1n1_risky                  388\n",
       "sick_from_h1n1_vacc            395\n",
       "is_seas_vacc_effective         462\n",
       "is_seas_risky                  514\n",
       "sick_from_seas_vacc            537\n",
       "age_bracket                      0\n",
       "qualification                 1407\n",
       "race                             0\n",
       "sex                              0\n",
       "income_level                  4423\n",
       "marital_status                1408\n",
       "housing_status                2042\n",
       "employment                    1463\n",
       "census_msa                       0\n",
       "no_of_adults                   249\n",
       "no_of_children                 249\n",
       "h1n1_vaccine                     0\n",
       "dtype: int64"
      ]
     },
     "execution_count": 170,
     "metadata": {},
     "output_type": "execute_result"
    }
   ],
   "source": [
    "d.isnull().sum()"
   ]
  },
  {
   "cell_type": "code",
   "execution_count": 171,
   "id": "eee6b5f8",
   "metadata": {},
   "outputs": [
    {
     "data": {
      "text/plain": [
       "array([ 1.,  3.,  2.,  0., nan])"
      ]
     },
     "execution_count": 171,
     "metadata": {},
     "output_type": "execute_result"
    }
   ],
   "source": [
    "d['h1n1_worry'].unique()"
   ]
  },
  {
   "cell_type": "code",
   "execution_count": 172,
   "id": "c5f9f196",
   "metadata": {},
   "outputs": [
    {
     "data": {
      "image/png": "[encoded data removed]",
      "text/plain": [
       "<Figure size 640x480 with 1 Axes>"
      ]
     },
     "metadata": {},
     "output_type": "display_data"
    }
   ],
   "source": [
    "d['h1n1_worry'].value_counts().plot(kind = 'bar')\n",
    "plt.xlabel('H1N1 Worry')\n",
    "plt.ylabel('Count')\n",
    "plt.show()"
   ]
  },
  {
   "cell_type": "code",
   "execution_count": 173,
   "id": "b3fab0ed",
   "metadata": {},
   "outputs": [
    {
     "data": {
      "text/plain": [
       "0    2.0\n",
       "Name: h1n1_worry, dtype: float64"
      ]
     },
     "metadata": {},
     "output_type": "display_data"
    },
    {
     "data": {
      "text/plain": [
       "2.0"
      ]
     },
     "metadata": {},
     "output_type": "display_data"
    }
   ],
   "source": [
    "display(d['h1n1_worry'].mode(), d['h1n1_worry'].median())"
   ]
  },
  {
   "cell_type": "markdown",
   "id": "342a17b4",
   "metadata": {},
   "source": [
    "## Dealing with Outliers and Missing Values"
   ]
  },
  {
   "cell_type": "code",
   "execution_count": 174,
   "id": "e7184938",
   "metadata": {},
   "outputs": [],
   "source": [
    "d['h1n1_worry'].fillna(d['h1n1_worry'].mode()[0], inplace = True)"
   ]
  },
  {
   "cell_type": "code",
   "execution_count": 175,
   "id": "713e2400",
   "metadata": {},
   "outputs": [
    {
     "data": {
      "text/plain": [
       "array([ 0.,  2.,  1., nan])"
      ]
     },
     "execution_count": 175,
     "metadata": {},
     "output_type": "execute_result"
    }
   ],
   "source": [
    "d['h1n1_awareness'].unique()"
   ]
  },
  {
   "cell_type": "code",
   "execution_count": 176,
   "id": "648438ea",
   "metadata": {},
   "outputs": [
    {
     "data": {
      "image/png": "[encoded data removed]",
      "text/plain": [
       "<Figure size 640x480 with 1 Axes>"
      ]
     },
     "metadata": {},
     "output_type": "display_data"
    }
   ],
   "source": [
    "sns.countplot(x = 'h1n1_awareness', data = d, hue = 'h1n1_vaccine')\n",
    "plt.show()"
   ]
  },
  {
   "cell_type": "code",
   "execution_count": 177,
   "id": "9bf3795e",
   "metadata": {},
   "outputs": [
    {
     "data": {
      "text/plain": [
       "0    1.0\n",
       "Name: h1n1_awareness, dtype: float64"
      ]
     },
     "execution_count": 177,
     "metadata": {},
     "output_type": "execute_result"
    }
   ],
   "source": [
    "d['h1n1_awareness'].mode()"
   ]
  },
  {
   "cell_type": "code",
   "execution_count": 178,
   "id": "d76fb366",
   "metadata": {},
   "outputs": [],
   "source": [
    "d['h1n1_awareness'].fillna(d['h1n1_awareness'].mode()[0], inplace = True)"
   ]
  },
  {
   "cell_type": "code",
   "execution_count": 179,
   "id": "3868aba6",
   "metadata": {},
   "outputs": [
    {
     "data": {
      "text/plain": [
       "array([ 0.,  1., nan])"
      ]
     },
     "execution_count": 179,
     "metadata": {},
     "output_type": "execute_result"
    }
   ],
   "source": [
    "d['antiviral_medication'].unique()"
   ]
  },
  {
   "cell_type": "code",
   "execution_count": 180,
   "id": "f109aa6d",
   "metadata": {},
   "outputs": [
    {
     "data": {
      "image/png": "[encoded data removed]",
      "text/plain": [
       "<Figure size 500x500 with 1 Axes>"
      ]
     },
     "metadata": {},
     "output_type": "display_data"
    }
   ],
   "source": [
    "d['antiviral_medication'].value_counts().plot(kind = 'pie', autopct = '%0.2f%%', figsize = [5,5], explode = [0,0.2])\n",
    "plt.show()"
   ]
  },
  {
   "cell_type": "code",
   "execution_count": 181,
   "id": "0789291c",
   "metadata": {},
   "outputs": [
    {
     "data": {
      "text/plain": [
       "0    0.0\n",
       "Name: antiviral_medication, dtype: float64"
      ]
     },
     "metadata": {},
     "output_type": "display_data"
    }
   ],
   "source": [
    "display(d['antiviral_medication'].mode())\n",
    "d['antiviral_medication'].fillna(d['antiviral_medication'].mode()[0], inplace = True)"
   ]
  },
  {
   "cell_type": "code",
   "execution_count": 182,
   "id": "92eca03d",
   "metadata": {},
   "outputs": [
    {
     "data": {
      "text/plain": [
       "array([ 0.,  1., nan])"
      ]
     },
     "execution_count": 182,
     "metadata": {},
     "output_type": "execute_result"
    }
   ],
   "source": [
    "d['contact_avoidance'].unique()"
   ]
  },
  {
   "cell_type": "code",
   "execution_count": 183,
   "id": "21d4914c",
   "metadata": {},
   "outputs": [
    {
     "data": {
      "text/plain": [
       "1.0    19228\n",
       "0.0     7271\n",
       "Name: contact_avoidance, dtype: int64"
      ]
     },
     "execution_count": 183,
     "metadata": {},
     "output_type": "execute_result"
    }
   ],
   "source": [
    "d['contact_avoidance'].value_counts()"
   ]
  },
  {
   "cell_type": "code",
   "execution_count": 184,
   "id": "7a4acc5c",
   "metadata": {},
   "outputs": [
    {
     "data": {
      "image/png": "[encoded data removed]",
      "text/plain": [
       "<Figure size 640x480 with 1 Axes>"
      ]
     },
     "metadata": {},
     "output_type": "display_data"
    }
   ],
   "source": [
    "sns.countplot(y = 'contact_avoidance', data = d, color = 'green')\n",
    "plt.show()"
   ]
  },
  {
   "cell_type": "code",
   "execution_count": 185,
   "id": "0dc86dc5",
   "metadata": {},
   "outputs": [],
   "source": [
    "d['contact_avoidance'].fillna(d['contact_avoidance'].mode()[0], inplace = True)"
   ]
  },
  {
   "cell_type": "code",
   "execution_count": 186,
   "id": "020aefd1",
   "metadata": {},
   "outputs": [
    {
     "data": {
      "text/plain": [
       "array([ 0.,  1., nan])"
      ]
     },
     "execution_count": 186,
     "metadata": {},
     "output_type": "execute_result"
    }
   ],
   "source": [
    "d['bought_face_mask'].unique()"
   ]
  },
  {
   "cell_type": "code",
   "execution_count": 187,
   "id": "a591c2f8",
   "metadata": {},
   "outputs": [
    {
     "data": {
      "image/png": "[encoded data removed]",
      "text/plain": [
       "<Figure size 640x480 with 1 Axes>"
      ]
     },
     "metadata": {},
     "output_type": "display_data"
    }
   ],
   "source": [
    "d['bought_face_mask'].value_counts().plot(kind = 'bar', color = 'orange')\n",
    "plt.xlabel('bought_face_mask')\n",
    "plt.ylabel('count')\n",
    "plt.show()"
   ]
  },
  {
   "cell_type": "code",
   "execution_count": 188,
   "id": "41899656",
   "metadata": {},
   "outputs": [],
   "source": [
    "d['bought_face_mask'].fillna(d['bought_face_mask'].mode()[0], inplace = True)"
   ]
  },
  {
   "cell_type": "code",
   "execution_count": 189,
   "id": "671334b7",
   "metadata": {},
   "outputs": [
    {
     "data": {
      "text/plain": [
       "array([ 0.,  1., nan])"
      ]
     },
     "execution_count": 189,
     "metadata": {},
     "output_type": "execute_result"
    }
   ],
   "source": [
    "d['wash_hands_frequently'].unique()"
   ]
  },
  {
   "cell_type": "code",
   "execution_count": 190,
   "id": "55f1f0a7",
   "metadata": {},
   "outputs": [
    {
     "data": {
      "image/png": "[encoded data removed]",
      "text/plain": [
       "<Figure size 640x480 with 1 Axes>"
      ]
     },
     "metadata": {},
     "output_type": "display_data"
    }
   ],
   "source": [
    "sns.countplot(x = 'wash_hands_frequently', data = d)\n",
    "plt.show()"
   ]
  },
  {
   "cell_type": "code",
   "execution_count": 191,
   "id": "2993655c",
   "metadata": {},
   "outputs": [],
   "source": [
    "d['wash_hands_frequently'].fillna(d['wash_hands_frequently'].mode()[0], inplace = True)"
   ]
  },
  {
   "cell_type": "code",
   "execution_count": 192,
   "id": "37eef5e0",
   "metadata": {},
   "outputs": [
    {
     "data": {
      "text/plain": [
       "array([ 0.,  1., nan])"
      ]
     },
     "execution_count": 192,
     "metadata": {},
     "output_type": "execute_result"
    }
   ],
   "source": [
    "d['avoid_large_gatherings'].unique()"
   ]
  },
  {
   "cell_type": "code",
   "execution_count": 193,
   "id": "ed318264",
   "metadata": {},
   "outputs": [
    {
     "data": {
      "text/plain": [
       "0.0    17073\n",
       "1.0     9547\n",
       "Name: avoid_large_gatherings, dtype: int64"
      ]
     },
     "execution_count": 193,
     "metadata": {},
     "output_type": "execute_result"
    }
   ],
   "source": [
    "d['avoid_large_gatherings'].value_counts()"
   ]
  },
  {
   "cell_type": "code",
   "execution_count": 194,
   "id": "aee728d9",
   "metadata": {},
   "outputs": [],
   "source": [
    "d['avoid_large_gatherings'].fillna(d['avoid_large_gatherings'].mode()[0], inplace = True)"
   ]
  },
  {
   "cell_type": "code",
   "execution_count": 195,
   "id": "7dcb5de7",
   "metadata": {},
   "outputs": [
    {
     "data": {
      "text/plain": [
       "array([ 1.,  0., nan])"
      ]
     },
     "execution_count": 195,
     "metadata": {},
     "output_type": "execute_result"
    }
   ],
   "source": [
    "d['reduced_outside_home_cont'].unique()"
   ]
  },
  {
   "cell_type": "code",
   "execution_count": 196,
   "id": "3687a59c",
   "metadata": {},
   "outputs": [
    {
     "data": {
      "text/plain": [
       "0.0    17644\n",
       "1.0     8981\n",
       "Name: reduced_outside_home_cont, dtype: int64"
      ]
     },
     "execution_count": 196,
     "metadata": {},
     "output_type": "execute_result"
    }
   ],
   "source": [
    "d['reduced_outside_home_cont'].value_counts()"
   ]
  },
  {
   "cell_type": "code",
   "execution_count": 197,
   "id": "8e2df853",
   "metadata": {},
   "outputs": [],
   "source": [
    "d['reduced_outside_home_cont'].fillna(d['reduced_outside_home_cont'].mode()[0], inplace = True)"
   ]
  },
  {
   "cell_type": "code",
   "execution_count": 198,
   "id": "004b1075",
   "metadata": {},
   "outputs": [
    {
     "data": {
      "text/plain": [
       "array([ 1.,  0., nan])"
      ]
     },
     "execution_count": 198,
     "metadata": {},
     "output_type": "execute_result"
    }
   ],
   "source": [
    "d['avoid_touch_face'].unique()"
   ]
  },
  {
   "cell_type": "code",
   "execution_count": 199,
   "id": "55e55d0d",
   "metadata": {},
   "outputs": [
    {
     "data": {
      "text/plain": [
       "1.0    18001\n",
       "0.0     8578\n",
       "Name: avoid_touch_face, dtype: int64"
      ]
     },
     "execution_count": 199,
     "metadata": {},
     "output_type": "execute_result"
    }
   ],
   "source": [
    "d['avoid_touch_face'].value_counts()"
   ]
  },
  {
   "cell_type": "code",
   "execution_count": 200,
   "id": "d349b060",
   "metadata": {},
   "outputs": [],
   "source": [
    "d['avoid_touch_face'].fillna(d['avoid_touch_face'].mode()[0], inplace = True)"
   ]
  },
  {
   "cell_type": "code",
   "execution_count": 201,
   "id": "60c4af6a",
   "metadata": {},
   "outputs": [
    {
     "data": {
      "text/plain": [
       "array([ 0., nan,  1.])"
      ]
     },
     "metadata": {},
     "output_type": "display_data"
    },
    {
     "data": {
      "text/plain": [
       "array([ 0., nan,  1.])"
      ]
     },
     "metadata": {},
     "output_type": "display_data"
    }
   ],
   "source": [
    "display(d['dr_recc_h1n1_vacc'].unique(), d['dr_recc_seasonal_vacc'].unique())"
   ]
  },
  {
   "cell_type": "code",
   "execution_count": 202,
   "id": "34231ab0",
   "metadata": {},
   "outputs": [
    {
     "data": {
      "image/png": "[encoded data removed]",
      "text/plain": [
       "<Figure size 700x600 with 2 Axes>"
      ]
     },
     "metadata": {},
     "output_type": "display_data"
    }
   ],
   "source": [
    "fig, ax = plt.subplots(1,2, figsize = [7,6], sharey = True )\n",
    "sns.countplot(x = 'dr_recc_h1n1_vacc', data = d, color = 'maroon', ax=ax[0])\n",
    "sns.countplot(x = 'dr_recc_seasonal_vacc', data = d, color = 'navy', ax=ax[1])\n",
    "plt.show()"
   ]
  },
  {
   "cell_type": "code",
   "execution_count": 203,
   "id": "2fbc5ee2",
   "metadata": {},
   "outputs": [],
   "source": [
    "d['dr_recc_h1n1_vacc'].fillna(d['dr_recc_h1n1_vacc'].mode()[0], inplace = True)\n",
    "d['dr_recc_seasonal_vacc'].fillna(d['dr_recc_seasonal_vacc'].mode()[0], inplace = True)"
   ]
  },
  {
   "cell_type": "code",
   "execution_count": 204,
   "id": "49b29e38",
   "metadata": {},
   "outputs": [
    {
     "data": {
      "text/plain": [
       "0.0    18446\n",
       "1.0     7290\n",
       "Name: chronic_medic_condition, dtype: int64"
      ]
     },
     "execution_count": 204,
     "metadata": {},
     "output_type": "execute_result"
    }
   ],
   "source": [
    "d['chronic_medic_condition'].value_counts()"
   ]
  },
  {
   "cell_type": "code",
   "execution_count": 205,
   "id": "558ca626",
   "metadata": {},
   "outputs": [],
   "source": [
    "d['chronic_medic_condition'].fillna(d['chronic_medic_condition'].mode()[0], inplace = True)"
   ]
  },
  {
   "cell_type": "code",
   "execution_count": 206,
   "id": "9b00ad0d",
   "metadata": {},
   "outputs": [
    {
     "data": {
      "text/plain": [
       "<AxesSubplot:>"
      ]
     },
     "execution_count": 206,
     "metadata": {},
     "output_type": "execute_result"
    },
    {
     "data": {
      "image/png": "[encoded data removed]",
      "text/plain": [
       "<Figure size 640x480 with 1 Axes>"
      ]
     },
     "metadata": {},
     "output_type": "display_data"
    }
   ],
   "source": [
    "d['cont_child_undr_6_mnths'].value_counts().plot(kind = 'barh', cmap = 'rainbow', edgecolor = 'b')"
   ]
  },
  {
   "cell_type": "code",
   "execution_count": 207,
   "id": "cf784f59",
   "metadata": {},
   "outputs": [],
   "source": [
    "d['cont_child_undr_6_mnths'].fillna(d['cont_child_undr_6_mnths'].mode()[0], inplace = True)"
   ]
  },
  {
   "cell_type": "code",
   "execution_count": 208,
   "id": "2f89443c",
   "metadata": {},
   "outputs": [
    {
     "data": {
      "text/plain": [
       "0.0    23004\n",
       "1.0     2899\n",
       "Name: is_health_worker, dtype: int64"
      ]
     },
     "execution_count": 208,
     "metadata": {},
     "output_type": "execute_result"
    }
   ],
   "source": [
    "d['is_health_worker'].value_counts()"
   ]
  },
  {
   "cell_type": "code",
   "execution_count": 209,
   "id": "59b15954",
   "metadata": {},
   "outputs": [],
   "source": [
    "d['is_health_worker'].fillna(d['is_health_worker'].mode()[0], inplace = True)"
   ]
  },
  {
   "cell_type": "code",
   "execution_count": 210,
   "id": "4b31736e",
   "metadata": {},
   "outputs": [
    {
     "data": {
      "text/plain": [
       "array([ 1., nan,  0.])"
      ]
     },
     "execution_count": 210,
     "metadata": {},
     "output_type": "execute_result"
    }
   ],
   "source": [
    "d['has_health_insur'].unique()"
   ]
  },
  {
   "cell_type": "code",
   "execution_count": 211,
   "id": "b92b3df8",
   "metadata": {},
   "outputs": [
    {
     "data": {
      "text/plain": [
       "<AxesSubplot:>"
      ]
     },
     "execution_count": 211,
     "metadata": {},
     "output_type": "execute_result"
    },
    {
     "data": {
      "image/png": "[encoded data removed]",
      "text/plain": [
       "<Figure size 640x480 with 1 Axes>"
      ]
     },
     "metadata": {},
     "output_type": "display_data"
    }
   ],
   "source": [
    "d['has_health_insur'].value_counts().plot(kind = 'barh')"
   ]
  },
  {
   "cell_type": "code",
   "execution_count": 212,
   "id": "e2654ed0",
   "metadata": {},
   "outputs": [],
   "source": [
    "d['has_health_insur'].fillna(2.0, inplace = True)"
   ]
  },
  {
   "cell_type": "code",
   "execution_count": 213,
   "id": "4ae2a0bb",
   "metadata": {},
   "outputs": [
    {
     "data": {
      "text/plain": [
       "<AxesSubplot:>"
      ]
     },
     "execution_count": 213,
     "metadata": {},
     "output_type": "execute_result"
    },
    {
     "data": {
      "image/png": "[encoded data removed]",
      "text/plain": [
       "<Figure size 640x480 with 1 Axes>"
      ]
     },
     "metadata": {},
     "output_type": "display_data"
    }
   ],
   "source": [
    "d['has_health_insur'].value_counts().plot(kind = 'barh', color = 'b', edgecolor = 'r')"
   ]
  },
  {
   "cell_type": "code",
   "execution_count": 214,
   "id": "20141771",
   "metadata": {},
   "outputs": [
    {
     "data": {
      "text/plain": [
       "array([ 3.,  5.,  4.,  2.,  1., nan])"
      ]
     },
     "metadata": {},
     "output_type": "display_data"
    },
    {
     "data": {
      "text/plain": [
       "array([ 2.,  4.,  5.,  3.,  1., nan])"
      ]
     },
     "metadata": {},
     "output_type": "display_data"
    }
   ],
   "source": [
    "display(d['is_h1n1_vacc_effective'].unique(), d['is_seas_vacc_effective'].unique())"
   ]
  },
  {
   "cell_type": "code",
   "execution_count": 215,
   "id": "957fd5b5",
   "metadata": {},
   "outputs": [
    {
     "data": {
      "image/png": "[encoded data removed]",
      "text/plain": [
       "<Figure size 1000x1000 with 2 Axes>"
      ]
     },
     "metadata": {},
     "output_type": "display_data"
    }
   ],
   "source": [
    "colors = ['#CAFF70', '#FF1493', '#00BFFF', '#FFD700', '#836FFF']\n",
    "colors1 = ['#FF7F24', '#FFB90F', '#A2CD5A', '#BF3EFF', '#EEAEEE']\n",
    "fig, (ax1,ax2) = plt.subplots(1,2, figsize = [10,10])\n",
    "\n",
    "ax1.pie(d['is_h1n1_vacc_effective'].value_counts(), labels = d['is_h1n1_vacc_effective'].value_counts().index , \n",
    "        autopct = '%0.2f%%', explode= [0.1,0,0,0,0], colors = colors, shadow = True)\n",
    "\n",
    "ax2.pie(d['is_seas_vacc_effective'].value_counts(), labels = d['is_seas_vacc_effective'].value_counts().index , \n",
    "        autopct = '%0.2f%%', explode= [0.1,0,0,0,0], colors = colors1, shadow = True)\n",
    "\n",
    "ax1.set_title('is_h1n1_vacc_effective')\n",
    "ax2.set_title('is_seas_vacc_effective')\n",
    "\n",
    "plt.show()"
   ]
  },
  {
   "cell_type": "code",
   "execution_count": 216,
   "id": "22d0e794",
   "metadata": {},
   "outputs": [],
   "source": [
    "d['is_h1n1_vacc_effective'].fillna(d['is_h1n1_vacc_effective'].mode()[0], inplace = True)\n",
    "d['is_seas_vacc_effective'].fillna(d['is_seas_vacc_effective'].mode()[0], inplace = True)"
   ]
  },
  {
   "cell_type": "code",
   "execution_count": 217,
   "id": "f2dfbe34",
   "metadata": {},
   "outputs": [
    {
     "data": {
      "text/plain": [
       "array([ 1.,  4.,  3.,  2.,  5., nan])"
      ]
     },
     "metadata": {},
     "output_type": "display_data"
    },
    {
     "data": {
      "text/plain": [
       "array([ 1.,  2.,  4.,  3.,  5., nan])"
      ]
     },
     "metadata": {},
     "output_type": "display_data"
    }
   ],
   "source": [
    "display(d['is_h1n1_risky'].unique(), d['is_seas_risky'].unique())"
   ]
  },
  {
   "cell_type": "code",
   "execution_count": 218,
   "id": "5b1c6d4f",
   "metadata": {},
   "outputs": [
    {
     "data": {
      "image/png": "[encoded data removed]",
      "text/plain": [
       "<Figure size 1000x1000 with 2 Axes>"
      ]
     },
     "metadata": {},
     "output_type": "display_data"
    }
   ],
   "source": [
    "fig, ax = plt.subplots(1, 2, figsize = [10,10])\n",
    "d['is_h1n1_risky'].value_counts().plot(kind = 'pie', autopct = '%0.2f%%', explode = [0.05,0,0,0,0], cmap = 'RdYlGn', ax = ax[0])\n",
    "d['is_seas_risky'].value_counts().plot(kind = 'pie', autopct = '%0.2f%%', explode = [0.05,0,0,0,0], cmap = 'Paired', ax = ax[1])\n",
    "plt.show()"
   ]
  },
  {
   "cell_type": "code",
   "execution_count": 219,
   "id": "45f4ea95",
   "metadata": {},
   "outputs": [],
   "source": [
    "d['is_h1n1_risky'].fillna(d['is_h1n1_risky'].mode()[0], inplace = True)\n",
    "d['is_seas_risky'].fillna(d['is_seas_risky'].mode()[0], inplace = True)"
   ]
  },
  {
   "cell_type": "code",
   "execution_count": 220,
   "id": "182d49bc",
   "metadata": {},
   "outputs": [
    {
     "data": {
      "text/plain": [
       "array([ 2.,  4.,  1.,  5.,  3., nan])"
      ]
     },
     "metadata": {},
     "output_type": "display_data"
    },
    {
     "data": {
      "text/plain": [
       "array([ 2.,  4.,  1.,  5., nan,  3.])"
      ]
     },
     "metadata": {},
     "output_type": "display_data"
    }
   ],
   "source": [
    "display(d['sick_from_h1n1_vacc'].unique(), d['sick_from_seas_vacc'].unique())"
   ]
  },
  {
   "cell_type": "code",
   "execution_count": 221,
   "id": "3314b2e9",
   "metadata": {},
   "outputs": [
    {
     "data": {
      "image/png": "[encoded data removed]",
      "text/plain": [
       "<Figure size 1000x1000 with 2 Axes>"
      ]
     },
     "metadata": {},
     "output_type": "display_data"
    }
   ],
   "source": [
    "fig, ax = plt.subplots(1,2, figsize = [10,10])\n",
    "d['sick_from_h1n1_vacc'].value_counts().plot(kind = 'pie', autopct = '%0.2f%%', explode = [0.05,0,0,0,0], cmap = 'Spectral', ax = ax[0])\n",
    "d['sick_from_seas_vacc'].value_counts().plot(kind = 'pie', autopct = '%0.2f%%', explode = [0.05,0,0,0,0], cmap = 'twilight', ax = ax[1])\n",
    "plt.show()"
   ]
  },
  {
   "cell_type": "code",
   "execution_count": 222,
   "id": "99c34397",
   "metadata": {},
   "outputs": [],
   "source": [
    "d['sick_from_h1n1_vacc'].fillna(d['sick_from_h1n1_vacc'].mode()[0], inplace = True)\n",
    "d['sick_from_seas_vacc'].fillna(d['sick_from_seas_vacc'].mode()[0], inplace = True)"
   ]
  },
  {
   "cell_type": "code",
   "execution_count": 223,
   "id": "aac9433a",
   "metadata": {},
   "outputs": [
    {
     "data": {
      "image/png": "[encoded data removed]",
      "text/plain": [
       "<Figure size 500x500 with 1 Axes>"
      ]
     },
     "metadata": {},
     "output_type": "display_data"
    }
   ],
   "source": [
    "d.groupby(['dr_recc_seasonal_vacc']).agg({'is_seas_vacc_effective' : ['count'],\n",
    "                                      'is_seas_risky' :['count'],\n",
    "                                      'sick_from_seas_vacc' : ['count']}).plot(kind = 'bar', cmap = 'tab20b', figsize = [5,5])\n",
    "plt.ylabel('count')\n",
    "plt.show()"
   ]
  },
  {
   "cell_type": "code",
   "execution_count": 224,
   "id": "04b7644a",
   "metadata": {},
   "outputs": [
    {
     "data": {
      "image/png": "[encoded data removed]",
      "text/plain": [
       "<Figure size 500x500 with 1 Axes>"
      ]
     },
     "metadata": {},
     "output_type": "display_data"
    }
   ],
   "source": [
    "d.groupby(['dr_recc_h1n1_vacc']).agg({'is_h1n1_vacc_effective' : ['count'],\n",
    "                                      'is_h1n1_risky' :['count'],\n",
    "                                      'sick_from_h1n1_vacc' : ['count']}).plot(kind = 'bar', cmap = 'tab20c', figsize = [5,5])\n",
    "plt.ylabel('count')\n",
    "plt.show()"
   ]
  },
  {
   "cell_type": "code",
   "execution_count": 225,
   "id": "871dc64c",
   "metadata": {},
   "outputs": [
    {
     "data": {
      "text/plain": [
       "array(['< 12 Years', '12 Years', 'College Graduate', 'Some College', nan],\n",
       "      dtype=object)"
      ]
     },
     "execution_count": 225,
     "metadata": {},
     "output_type": "execute_result"
    }
   ],
   "source": [
    "d['qualification'].unique()"
   ]
  },
  {
   "cell_type": "code",
   "execution_count": 226,
   "id": "d5f4840e",
   "metadata": {},
   "outputs": [
    {
     "data": {
      "text/plain": [
       "College Graduate    10097\n",
       "Some College         7043\n",
       "12 Years             5797\n",
       "< 12 Years           2363\n",
       "Name: qualification, dtype: int64"
      ]
     },
     "execution_count": 226,
     "metadata": {},
     "output_type": "execute_result"
    }
   ],
   "source": [
    "d['qualification'].value_counts()"
   ]
  },
  {
   "cell_type": "code",
   "execution_count": 227,
   "id": "c90d7086",
   "metadata": {},
   "outputs": [],
   "source": [
    "d['qualification'].fillna(d['qualification'].mode()[0], inplace = True)"
   ]
  },
  {
   "cell_type": "code",
   "execution_count": 228,
   "id": "b69cb3cd",
   "metadata": {},
   "outputs": [
    {
     "data": {
      "text/plain": [
       "<AxesSubplot:>"
      ]
     },
     "execution_count": 228,
     "metadata": {},
     "output_type": "execute_result"
    },
    {
     "data": {
      "image/png": "[encoded data removed]",
      "text/plain": [
       "<Figure size 640x480 with 1 Axes>"
      ]
     },
     "metadata": {},
     "output_type": "display_data"
    }
   ],
   "source": [
    "d['sex'].value_counts().plot(kind = 'barh', color = 'c', edgecolor = 'r')"
   ]
  },
  {
   "cell_type": "code",
   "execution_count": 229,
   "id": "b6603e2d",
   "metadata": {},
   "outputs": [
    {
     "data": {
      "text/plain": [
       "array(['Below Poverty', '<= $75,000, Above Poverty', '> $75,000', nan],\n",
       "      dtype=object)"
      ]
     },
     "execution_count": 229,
     "metadata": {},
     "output_type": "execute_result"
    }
   ],
   "source": [
    "d['income_level'].unique()"
   ]
  },
  {
   "cell_type": "code",
   "execution_count": 230,
   "id": "7ad63798",
   "metadata": {},
   "outputs": [
    {
     "data": {
      "text/plain": [
       "<AxesSubplot:ylabel='income_level'>"
      ]
     },
     "execution_count": 230,
     "metadata": {},
     "output_type": "execute_result"
    },
    {
     "data": {
      "image/png": "[encoded data removed]",
      "text/plain": [
       "<Figure size 500x500 with 1 Axes>"
      ]
     },
     "metadata": {},
     "output_type": "display_data"
    }
   ],
   "source": [
    "d['income_level'].value_counts().plot(kind = 'pie', autopct = '%0.2f%%', cmap = 'magma',\n",
    "                                            explode = [0,0.1,0], figsize = [5,5], shadow = True)"
   ]
  },
  {
   "cell_type": "code",
   "execution_count": 231,
   "id": "665fa3ce",
   "metadata": {},
   "outputs": [],
   "source": [
    "d['income_level'].fillna('Unknown', inplace = True)"
   ]
  },
  {
   "cell_type": "code",
   "execution_count": 232,
   "id": "e7822f0e",
   "metadata": {},
   "outputs": [
    {
     "data": {
      "text/plain": [
       "array(['Not Married', 'Married', nan], dtype=object)"
      ]
     },
     "execution_count": 232,
     "metadata": {},
     "output_type": "execute_result"
    }
   ],
   "source": [
    "d['marital_status'].unique()"
   ]
  },
  {
   "cell_type": "code",
   "execution_count": 233,
   "id": "bb859ea8",
   "metadata": {},
   "outputs": [
    {
     "data": {
      "text/plain": [
       "Married        13555\n",
       "Not Married    11744\n",
       "Name: marital_status, dtype: int64"
      ]
     },
     "execution_count": 233,
     "metadata": {},
     "output_type": "execute_result"
    }
   ],
   "source": [
    "d['marital_status'].value_counts()"
   ]
  },
  {
   "cell_type": "code",
   "execution_count": 234,
   "id": "9a31dfe6",
   "metadata": {},
   "outputs": [],
   "source": [
    "d['marital_status'].fillna(d['marital_status'].mode()[0], inplace = True)"
   ]
  },
  {
   "cell_type": "code",
   "execution_count": 235,
   "id": "44bc6a0e",
   "metadata": {},
   "outputs": [
    {
     "data": {
      "text/plain": [
       "array(['Own', 'Rent', nan], dtype=object)"
      ]
     },
     "execution_count": 235,
     "metadata": {},
     "output_type": "execute_result"
    }
   ],
   "source": [
    "d['housing_status'].unique()"
   ]
  },
  {
   "cell_type": "code",
   "execution_count": 236,
   "id": "a91ceb50",
   "metadata": {},
   "outputs": [
    {
     "data": {
      "text/plain": [
       "<AxesSubplot:>"
      ]
     },
     "execution_count": 236,
     "metadata": {},
     "output_type": "execute_result"
    },
    {
     "data": {
      "image/png": "[encoded data removed]",
      "text/plain": [
       "<Figure size 640x480 with 1 Axes>"
      ]
     },
     "metadata": {},
     "output_type": "display_data"
    }
   ],
   "source": [
    "d['housing_status'].value_counts().plot(kind = 'bar', color = 'b', edgecolor = 'r')"
   ]
  },
  {
   "cell_type": "code",
   "execution_count": 237,
   "id": "2195a161",
   "metadata": {},
   "outputs": [],
   "source": [
    "d['housing_status'].fillna(d['housing_status'].mode()[0], inplace = True)"
   ]
  },
  {
   "cell_type": "code",
   "execution_count": 238,
   "id": "914ef1d2",
   "metadata": {},
   "outputs": [
    {
     "data": {
      "text/plain": [
       "array(['Not in Labor Force', 'Employed', 'Unemployed', nan], dtype=object)"
      ]
     },
     "execution_count": 238,
     "metadata": {},
     "output_type": "execute_result"
    }
   ],
   "source": [
    "d['employment'].unique()"
   ]
  },
  {
   "cell_type": "code",
   "execution_count": 239,
   "id": "9b21ac7d",
   "metadata": {},
   "outputs": [
    {
     "data": {
      "text/plain": [
       "<AxesSubplot:ylabel='employment'>"
      ]
     },
     "execution_count": 239,
     "metadata": {},
     "output_type": "execute_result"
    },
    {
     "data": {
      "image/png": "[encoded data removed]",
      "text/plain": [
       "<Figure size 500x500 with 1 Axes>"
      ]
     },
     "metadata": {},
     "output_type": "display_data"
    }
   ],
   "source": [
    "d['employment'].value_counts().plot(kind = 'pie', autopct = '%0.2f%%', figsize = [5,5])"
   ]
  },
  {
   "cell_type": "code",
   "execution_count": 240,
   "id": "640bc45f",
   "metadata": {},
   "outputs": [],
   "source": [
    "d['employment'].fillna(d['employment'].mode()[0], inplace = True)"
   ]
  },
  {
   "cell_type": "code",
   "execution_count": 241,
   "id": "6490c666",
   "metadata": {},
   "outputs": [
    {
     "data": {
      "text/plain": [
       "array([ 0.,  2.,  1.,  3., nan])"
      ]
     },
     "metadata": {},
     "output_type": "display_data"
    },
    {
     "data": {
      "text/plain": [
       "array([ 0.,  3.,  2.,  1., nan])"
      ]
     },
     "metadata": {},
     "output_type": "display_data"
    }
   ],
   "source": [
    "display(d['no_of_adults'].unique(), d['no_of_children'].unique())"
   ]
  },
  {
   "cell_type": "code",
   "execution_count": 242,
   "id": "725cd763",
   "metadata": {},
   "outputs": [
    {
     "data": {
      "image/png": "[encoded data removed]",
      "text/plain": [
       "<Figure size 700x500 with 2 Axes>"
      ]
     },
     "metadata": {},
     "output_type": "display_data"
    }
   ],
   "source": [
    "fig, ax = plt.subplots(1,2, figsize = [7,5], sharey = True)\n",
    "sns.countplot( x = 'no_of_adults', data = d, ax = ax[0])\n",
    "sns.countplot( x = 'no_of_children', data = d, ax = ax[1])\n",
    "plt.show()"
   ]
  },
  {
   "cell_type": "code",
   "execution_count": 243,
   "id": "b1953929",
   "metadata": {},
   "outputs": [],
   "source": [
    "d['no_of_adults'].fillna(d['no_of_adults'].mode()[0], inplace = True)\n",
    "d['no_of_children'].fillna(d['no_of_children'].mode()[0], inplace = True)"
   ]
  },
  {
   "cell_type": "code",
   "execution_count": 244,
   "id": "10022df6",
   "metadata": {},
   "outputs": [
    {
     "data": {
      "text/plain": [
       "65+ Years        6843\n",
       "55 - 64 Years    5563\n",
       "45 - 54 Years    5238\n",
       "18 - 34 Years    5215\n",
       "35 - 44 Years    3848\n",
       "Name: age_bracket, dtype: int64"
      ]
     },
     "execution_count": 244,
     "metadata": {},
     "output_type": "execute_result"
    }
   ],
   "source": [
    "d['age_bracket'].value_counts()"
   ]
  },
  {
   "cell_type": "code",
   "execution_count": 245,
   "id": "83e7304f",
   "metadata": {},
   "outputs": [
    {
     "data": {
      "text/plain": [
       "h1n1_worry                   0\n",
       "h1n1_awareness               0\n",
       "antiviral_medication         0\n",
       "contact_avoidance            0\n",
       "bought_face_mask             0\n",
       "wash_hands_frequently        0\n",
       "avoid_large_gatherings       0\n",
       "reduced_outside_home_cont    0\n",
       "avoid_touch_face             0\n",
       "dr_recc_h1n1_vacc            0\n",
       "dr_recc_seasonal_vacc        0\n",
       "chronic_medic_condition      0\n",
       "cont_child_undr_6_mnths      0\n",
       "is_health_worker             0\n",
       "has_health_insur             0\n",
       "is_h1n1_vacc_effective       0\n",
       "is_h1n1_risky                0\n",
       "sick_from_h1n1_vacc          0\n",
       "is_seas_vacc_effective       0\n",
       "is_seas_risky                0\n",
       "sick_from_seas_vacc          0\n",
       "age_bracket                  0\n",
       "qualification                0\n",
       "race                         0\n",
       "sex                          0\n",
       "income_level                 0\n",
       "marital_status               0\n",
       "housing_status               0\n",
       "employment                   0\n",
       "census_msa                   0\n",
       "no_of_adults                 0\n",
       "no_of_children               0\n",
       "h1n1_vaccine                 0\n",
       "dtype: int64"
      ]
     },
     "execution_count": 245,
     "metadata": {},
     "output_type": "execute_result"
    }
   ],
   "source": [
    "d.isnull().sum()"
   ]
  },
  {
   "cell_type": "markdown",
   "id": "d7c11d17",
   "metadata": {},
   "source": [
    "## Extracting Input and Output"
   ]
  },
  {
   "cell_type": "code",
   "execution_count": 246,
   "id": "50021d55",
   "metadata": {},
   "outputs": [
    {
     "data": {
      "text/plain": [
       "object    33\n",
       "dtype: int64"
      ]
     },
     "execution_count": 246,
     "metadata": {},
     "output_type": "execute_result"
    }
   ],
   "source": [
    "d1 = d.astype({'h1n1_worry' : str, 'h1n1_awareness': str, 'antiviral_medication': str,\n",
    "       'contact_avoidance': str, 'bought_face_mask': str, 'wash_hands_frequently': str,\n",
    "       'avoid_large_gatherings': str, 'reduced_outside_home_cont': str,\n",
    "       'avoid_touch_face': str, 'dr_recc_h1n1_vacc': str, 'dr_recc_seasonal_vacc': str,\n",
    "       'chronic_medic_condition': str, 'cont_child_undr_6_mnths': str,\n",
    "       'is_health_worker': str, 'has_health_insur': str, 'is_h1n1_vacc_effective': str,\n",
    "       'is_h1n1_risky': str, 'sick_from_h1n1_vacc': str, 'is_seas_vacc_effective': str, 'age_bracket' : str,\n",
    "       'is_seas_risky': str, 'sick_from_seas_vacc': str, 'no_of_adults' : str, 'no_of_children' : str,\n",
    "        'h1n1_vaccine' : str})\n",
    "d1.dtypes.value_counts()"
   ]
  },
  {
   "cell_type": "code",
   "execution_count": 247,
   "id": "9339aa8b",
   "metadata": {},
   "outputs": [],
   "source": [
    "d_dummy = pd.get_dummies(d1, drop_first= True )"
   ]
  },
  {
   "cell_type": "code",
   "execution_count": 248,
   "id": "bcbe2d24",
   "metadata": {},
   "outputs": [
    {
     "data": {
      "text/plain": [
       "(26707, 70)"
      ]
     },
     "execution_count": 248,
     "metadata": {},
     "output_type": "execute_result"
    }
   ],
   "source": [
    "d_dummy.shape"
   ]
  },
  {
   "cell_type": "code",
   "execution_count": 249,
   "id": "895c9458",
   "metadata": {},
   "outputs": [
    {
     "data": {
      "text/plain": [
       "0    0.787546\n",
       "1    0.212454\n",
       "Name: h1n1_vaccine_1, dtype: float64"
      ]
     },
     "execution_count": 249,
     "metadata": {},
     "output_type": "execute_result"
    }
   ],
   "source": [
    "d_dummy['h1n1_vaccine_1'].value_counts(normalize = True)"
   ]
  },
  {
   "cell_type": "code",
   "execution_count": 250,
   "id": "bc1e5781",
   "metadata": {},
   "outputs": [],
   "source": [
    "y=d_dummy['h1n1_vaccine_1']\n",
    "x=d_dummy.drop(['h1n1_vaccine_1'], axis=1)"
   ]
  },
  {
   "cell_type": "markdown",
   "id": "7a8dd645",
   "metadata": {},
   "source": [
    "## Splitting the Values into Train and Test Values"
   ]
  },
  {
   "cell_type": "code",
   "execution_count": 251,
   "id": "62549253",
   "metadata": {},
   "outputs": [],
   "source": [
    "from statsmodels.stats.outliers_influence import variance_inflation_factor\n",
    "vif_data = pd.DataFrame()\n",
    "vif_data['Var'] = x.columns\n",
    "vif_data['VIF'] = [variance_inflation_factor(x.values, i) for i in range(len(x.columns))]"
   ]
  },
  {
   "cell_type": "code",
   "execution_count": 252,
   "id": "d1672429",
   "metadata": {},
   "outputs": [
    {
     "data": {
      "text/html": [
       "<div>\n",
       "<style scoped>\n",
       "    .dataframe tbody tr th:only-of-type {\n",
       "        vertical-align: middle;\n",
       "    }\n",
       "\n",
       "    .dataframe tbody tr th {\n",
       "        vertical-align: top;\n",
       "    }\n",
       "\n",
       "    .dataframe thead th {\n",
       "        text-align: right;\n",
       "    }\n",
       "</style>\n",
       "<table border=\"1\" class=\"dataframe\">\n",
       "  <thead>\n",
       "    <tr style=\"text-align: right;\">\n",
       "      <th></th>\n",
       "      <th>Var</th>\n",
       "      <th>VIF</th>\n",
       "    </tr>\n",
       "  </thead>\n",
       "  <tbody>\n",
       "    <tr>\n",
       "      <th>28</th>\n",
       "      <td>sick_from_h1n1_vacc_3.0</td>\n",
       "      <td>1.094738</td>\n",
       "    </tr>\n",
       "    <tr>\n",
       "      <th>40</th>\n",
       "      <td>sick_from_seas_vacc_3.0</td>\n",
       "      <td>1.087666</td>\n",
       "    </tr>\n",
       "    <tr>\n",
       "      <th>22</th>\n",
       "      <td>is_h1n1_vacc_effective_5.0</td>\n",
       "      <td>0.379078</td>\n",
       "    </tr>\n",
       "    <tr>\n",
       "      <th>32</th>\n",
       "      <td>is_seas_vacc_effective_3.0</td>\n",
       "      <td>0.376005</td>\n",
       "    </tr>\n",
       "    <tr>\n",
       "      <th>36</th>\n",
       "      <td>is_seas_risky_3.0</td>\n",
       "      <td>0.351710</td>\n",
       "    </tr>\n",
       "    <tr>\n",
       "      <th>...</th>\n",
       "      <td>...</td>\n",
       "      <td>...</td>\n",
       "    </tr>\n",
       "    <tr>\n",
       "      <th>4</th>\n",
       "      <td>h1n1_awareness_2.0</td>\n",
       "      <td>0.008856</td>\n",
       "    </tr>\n",
       "    <tr>\n",
       "      <th>25</th>\n",
       "      <td>is_h1n1_risky_4.0</td>\n",
       "      <td>0.008779</td>\n",
       "    </tr>\n",
       "    <tr>\n",
       "      <th>62</th>\n",
       "      <td>census_msa_Non-MSA</td>\n",
       "      <td>0.006878</td>\n",
       "    </tr>\n",
       "    <tr>\n",
       "      <th>10</th>\n",
       "      <td>reduced_outside_home_cont_1.0</td>\n",
       "      <td>0.005734</td>\n",
       "    </tr>\n",
       "    <tr>\n",
       "      <th>43</th>\n",
       "      <td>age_bracket_35 - 44 Years</td>\n",
       "      <td>0.003837</td>\n",
       "    </tr>\n",
       "  </tbody>\n",
       "</table>\n",
       "<p>69 rows × 2 columns</p>\n",
       "</div>"
      ],
      "text/plain": [
       "                              Var       VIF\n",
       "28        sick_from_h1n1_vacc_3.0  1.094738\n",
       "40        sick_from_seas_vacc_3.0  1.087666\n",
       "22     is_h1n1_vacc_effective_5.0  0.379078\n",
       "32     is_seas_vacc_effective_3.0  0.376005\n",
       "36              is_seas_risky_3.0  0.351710\n",
       "..                            ...       ...\n",
       "4              h1n1_awareness_2.0  0.008856\n",
       "25              is_h1n1_risky_4.0  0.008779\n",
       "62             census_msa_Non-MSA  0.006878\n",
       "10  reduced_outside_home_cont_1.0  0.005734\n",
       "43      age_bracket_35 - 44 Years  0.003837\n",
       "\n",
       "[69 rows x 2 columns]"
      ]
     },
     "execution_count": 252,
     "metadata": {},
     "output_type": "execute_result"
    }
   ],
   "source": [
    "vif_data.sort_values(by = ['VIF'], ascending = False)"
   ]
  },
  {
   "cell_type": "code",
   "execution_count": 253,
   "id": "c701e4bc",
   "metadata": {},
   "outputs": [],
   "source": [
    "x_train, x_test, y_train , y_test=train_test_split(x,y, test_size=.25, random_state=88)"
   ]
  },
  {
   "cell_type": "markdown",
   "id": "49acf125",
   "metadata": {},
   "source": [
    "## Logistic Regression Modelling"
   ]
  },
  {
   "cell_type": "code",
   "execution_count": 254,
   "id": "52a39d83",
   "metadata": {},
   "outputs": [
    {
     "name": "stdout",
     "output_type": "stream",
     "text": [
      "Training Score : 0.8558162755866201\n",
      "Testing Score : 0.8442414257900255\n"
     ]
    }
   ],
   "source": [
    "log = LogisticRegression()\n",
    "\n",
    "log.fit(x_train,y_train)\n",
    "\n",
    "print(f\"Training Score : {log.score(x_train, y_train)}\")\n",
    "print(f\"Testing Score : {log.score(x_test, y_test)}\")"
   ]
  },
  {
   "cell_type": "markdown",
   "id": "4b13e99a",
   "metadata": {},
   "source": [
    "## Gradient Boosting Classifier"
   ]
  },
  {
   "cell_type": "code",
   "execution_count": 255,
   "id": "cd57050d",
   "metadata": {},
   "outputs": [],
   "source": [
    "from sklearn.ensemble import GradientBoostingClassifier"
   ]
  },
  {
   "cell_type": "code",
   "execution_count": 256,
   "id": "d0818fb0",
   "metadata": {},
   "outputs": [],
   "source": [
    "model1=GradientBoostingClassifier(criterion='friedman_mse',random_state=50,max_features=6,)"
   ]
  },
  {
   "cell_type": "code",
   "execution_count": 257,
   "id": "b59f5fc6",
   "metadata": {},
   "outputs": [
    {
     "data": {
      "text/plain": [
       "GradientBoostingClassifier(max_features=6, random_state=50)"
      ]
     },
     "execution_count": 257,
     "metadata": {},
     "output_type": "execute_result"
    }
   ],
   "source": [
    "model1.fit(x_train, y_train)"
   ]
  },
  {
   "cell_type": "code",
   "execution_count": 258,
   "id": "6590fc25",
   "metadata": {},
   "outputs": [
    {
     "data": {
      "text/plain": [
       "0.854118821767349"
      ]
     },
     "execution_count": 258,
     "metadata": {},
     "output_type": "execute_result"
    }
   ],
   "source": [
    "model1.score(x_train, y_train)"
   ]
  },
  {
   "cell_type": "code",
   "execution_count": 259,
   "id": "2b5b4ef5",
   "metadata": {},
   "outputs": [
    {
     "data": {
      "text/plain": [
       "GradientBoostingClassifier(max_features=6, random_state=50)"
      ]
     },
     "execution_count": 259,
     "metadata": {},
     "output_type": "execute_result"
    }
   ],
   "source": [
    "model1.fit(x_test, y_test)"
   ]
  },
  {
   "cell_type": "code",
   "execution_count": 260,
   "id": "6c52129d",
   "metadata": {},
   "outputs": [
    {
     "data": {
      "text/plain": [
       "0.8500823723228995"
      ]
     },
     "execution_count": 260,
     "metadata": {},
     "output_type": "execute_result"
    }
   ],
   "source": [
    "model1.score(x_test, y_test)"
   ]
  },
  {
   "cell_type": "markdown",
   "id": "56ebdd10",
   "metadata": {},
   "source": [
    "## Bagging Classifier"
   ]
  },
  {
   "cell_type": "code",
   "execution_count": 261,
   "id": "d1713a0b",
   "metadata": {},
   "outputs": [],
   "source": [
    "from sklearn.ensemble import BaggingClassifier"
   ]
  },
  {
   "cell_type": "code",
   "execution_count": 262,
   "id": "0010162b",
   "metadata": {},
   "outputs": [],
   "source": [
    "model2=BaggingClassifier()"
   ]
  },
  {
   "cell_type": "code",
   "execution_count": 263,
   "id": "10e166da",
   "metadata": {},
   "outputs": [
    {
     "data": {
      "text/plain": [
       "BaggingClassifier()"
      ]
     },
     "execution_count": 263,
     "metadata": {},
     "output_type": "execute_result"
    }
   ],
   "source": [
    "model2.fit(x_train,y_train)"
   ]
  },
  {
   "cell_type": "code",
   "execution_count": 264,
   "id": "c6183fe3",
   "metadata": {},
   "outputs": [
    {
     "data": {
      "text/plain": [
       "0.9871692461308038"
      ]
     },
     "execution_count": 264,
     "metadata": {},
     "output_type": "execute_result"
    }
   ],
   "source": [
    "model2.score(x_train,y_train)"
   ]
  },
  {
   "cell_type": "code",
   "execution_count": 265,
   "id": "42bdc48d",
   "metadata": {},
   "outputs": [
    {
     "data": {
      "text/plain": [
       "BaggingClassifier()"
      ]
     },
     "execution_count": 265,
     "metadata": {},
     "output_type": "execute_result"
    }
   ],
   "source": [
    "model2.fit(x_test,y_test)"
   ]
  },
  {
   "cell_type": "code",
   "execution_count": 266,
   "id": "0d3ae262",
   "metadata": {},
   "outputs": [
    {
     "data": {
      "text/plain": [
       "0.9848734461584544"
      ]
     },
     "execution_count": 266,
     "metadata": {},
     "output_type": "execute_result"
    }
   ],
   "source": [
    "model2.score(x_test,y_test)"
   ]
  },
  {
   "cell_type": "markdown",
   "id": "a6115e9e",
   "metadata": {},
   "source": [
    "## Random Forest Classifier"
   ]
  },
  {
   "cell_type": "code",
   "execution_count": 267,
   "id": "0a6789bb",
   "metadata": {},
   "outputs": [],
   "source": [
    "from sklearn.ensemble import RandomForestClassifier"
   ]
  },
  {
   "cell_type": "code",
   "execution_count": 268,
   "id": "284d30ae",
   "metadata": {},
   "outputs": [],
   "source": [
    "model3 = RandomForestClassifier()"
   ]
  },
  {
   "cell_type": "code",
   "execution_count": 269,
   "id": "c32443df",
   "metadata": {},
   "outputs": [
    {
     "data": {
      "text/plain": [
       "RandomForestClassifier()"
      ]
     },
     "execution_count": 269,
     "metadata": {},
     "output_type": "execute_result"
    }
   ],
   "source": [
    "model3.fit(x_train,y_train)"
   ]
  },
  {
   "cell_type": "code",
   "execution_count": 270,
   "id": "369414fa",
   "metadata": {},
   "outputs": [
    {
     "data": {
      "text/plain": [
       "1.0"
      ]
     },
     "execution_count": 270,
     "metadata": {},
     "output_type": "execute_result"
    }
   ],
   "source": [
    "model3.score(x_train,y_train)"
   ]
  },
  {
   "cell_type": "code",
   "execution_count": 271,
   "id": "3664bea1",
   "metadata": {},
   "outputs": [
    {
     "data": {
      "text/plain": [
       "RandomForestClassifier()"
      ]
     },
     "execution_count": 271,
     "metadata": {},
     "output_type": "execute_result"
    }
   ],
   "source": [
    "model3.fit(x_test,y_test)"
   ]
  },
  {
   "cell_type": "code",
   "execution_count": 272,
   "id": "0a1d59b1",
   "metadata": {},
   "outputs": [
    {
     "data": {
      "text/plain": [
       "0.9998502321401828"
      ]
     },
     "execution_count": 272,
     "metadata": {},
     "output_type": "execute_result"
    }
   ],
   "source": [
    "model3.score(x_test,y_test)"
   ]
  },
  {
   "cell_type": "markdown",
   "id": "7db6f490",
   "metadata": {},
   "source": [
    "## K Nearest Neighbor Classifier"
   ]
  },
  {
   "cell_type": "code",
   "execution_count": 273,
   "id": "28643550",
   "metadata": {},
   "outputs": [],
   "source": [
    "from sklearn.neighbors import KNeighborsClassifier"
   ]
  },
  {
   "cell_type": "code",
   "execution_count": 274,
   "id": "55a2363f",
   "metadata": {},
   "outputs": [],
   "source": [
    "model4 = KNeighborsClassifier()"
   ]
  },
  {
   "cell_type": "code",
   "execution_count": 275,
   "id": "cbf71f52",
   "metadata": {},
   "outputs": [
    {
     "data": {
      "text/plain": [
       "KNeighborsClassifier()"
      ]
     },
     "execution_count": 275,
     "metadata": {},
     "output_type": "execute_result"
    }
   ],
   "source": [
    "model4.fit(x_train,y_train)"
   ]
  },
  {
   "cell_type": "code",
   "execution_count": 276,
   "id": "2527d71c",
   "metadata": {},
   "outputs": [
    {
     "data": {
      "text/plain": [
       "0.8727408886669995"
      ]
     },
     "execution_count": 276,
     "metadata": {},
     "output_type": "execute_result"
    }
   ],
   "source": [
    "model4.score(x_train,y_train)"
   ]
  },
  {
   "cell_type": "code",
   "execution_count": 277,
   "id": "3621206a",
   "metadata": {},
   "outputs": [
    {
     "data": {
      "text/plain": [
       "KNeighborsClassifier()"
      ]
     },
     "execution_count": 277,
     "metadata": {},
     "output_type": "execute_result"
    }
   ],
   "source": [
    "model4.fit(x_test,y_test)"
   ]
  },
  {
   "cell_type": "code",
   "execution_count": 278,
   "id": "66b8d975",
   "metadata": {},
   "outputs": [
    {
     "data": {
      "text/plain": [
       "0.8638610154260895"
      ]
     },
     "execution_count": 278,
     "metadata": {},
     "output_type": "execute_result"
    }
   ],
   "source": [
    "model4.score(x_test,y_test)"
   ]
  },
  {
   "cell_type": "markdown",
   "id": "4d83781e",
   "metadata": {},
   "source": [
    "## Vaccination Predictions"
   ]
  },
  {
   "cell_type": "code",
   "execution_count": 279,
   "id": "a55900a4",
   "metadata": {},
   "outputs": [],
   "source": [
    "pred_train=log.predict(x_train)\n",
    "pred_test=log.predict(x_test)"
   ]
  },
  {
   "cell_type": "code",
   "execution_count": 280,
   "id": "054d52df",
   "metadata": {},
   "outputs": [
    {
     "data": {
      "text/html": [
       "<div>\n",
       "<style scoped>\n",
       "    .dataframe tbody tr th:only-of-type {\n",
       "        vertical-align: middle;\n",
       "    }\n",
       "\n",
       "    .dataframe tbody tr th {\n",
       "        vertical-align: top;\n",
       "    }\n",
       "\n",
       "    .dataframe thead th {\n",
       "        text-align: right;\n",
       "    }\n",
       "</style>\n",
       "<table border=\"1\" class=\"dataframe\">\n",
       "  <thead>\n",
       "    <tr style=\"text-align: right;\">\n",
       "      <th></th>\n",
       "      <th>Pred_0</th>\n",
       "      <th>Pred_1</th>\n",
       "    </tr>\n",
       "  </thead>\n",
       "  <tbody>\n",
       "    <tr>\n",
       "      <th>Act_0</th>\n",
       "      <td>15031</td>\n",
       "      <td>773</td>\n",
       "    </tr>\n",
       "    <tr>\n",
       "      <th>Act_1</th>\n",
       "      <td>2115</td>\n",
       "      <td>2111</td>\n",
       "    </tr>\n",
       "  </tbody>\n",
       "</table>\n",
       "</div>"
      ],
      "text/plain": [
       "       Pred_0  Pred_1\n",
       "Act_0   15031     773\n",
       "Act_1    2115    2111"
      ]
     },
     "execution_count": 280,
     "metadata": {},
     "output_type": "execute_result"
    }
   ],
   "source": [
    "cnfTrain=pd.DataFrame(metrics.confusion_matrix(y_train , pred_train), columns=[\"Pred_0\", \"Pred_1\"],\n",
    "                index=[\"Act_0\", \"Act_1\"])\n",
    "cnfTrain"
   ]
  },
  {
   "cell_type": "code",
   "execution_count": 281,
   "id": "c821f1d3",
   "metadata": {},
   "outputs": [
    {
     "name": "stdout",
     "output_type": "stream",
     "text": [
      "              precision    recall  f1-score   support\n",
      "\n",
      "           0       0.88      0.95      0.91     15804\n",
      "           1       0.73      0.50      0.59      4226\n",
      "\n",
      "    accuracy                           0.86     20030\n",
      "   macro avg       0.80      0.73      0.75     20030\n",
      "weighted avg       0.85      0.86      0.85     20030\n",
      "\n"
     ]
    }
   ],
   "source": [
    "print(metrics.classification_report(y_train, pred_train))"
   ]
  },
  {
   "cell_type": "code",
   "execution_count": 282,
   "id": "790d1d5b",
   "metadata": {},
   "outputs": [
    {
     "data": {
      "text/html": [
       "<div>\n",
       "<style scoped>\n",
       "    .dataframe tbody tr th:only-of-type {\n",
       "        vertical-align: middle;\n",
       "    }\n",
       "\n",
       "    .dataframe tbody tr th {\n",
       "        vertical-align: top;\n",
       "    }\n",
       "\n",
       "    .dataframe thead th {\n",
       "        text-align: right;\n",
       "    }\n",
       "</style>\n",
       "<table border=\"1\" class=\"dataframe\">\n",
       "  <thead>\n",
       "    <tr style=\"text-align: right;\">\n",
       "      <th></th>\n",
       "      <th>Pred_0</th>\n",
       "      <th>Pred_1</th>\n",
       "    </tr>\n",
       "  </thead>\n",
       "  <tbody>\n",
       "    <tr>\n",
       "      <th>Act_0</th>\n",
       "      <td>4985</td>\n",
       "      <td>244</td>\n",
       "    </tr>\n",
       "    <tr>\n",
       "      <th>Act_1</th>\n",
       "      <td>796</td>\n",
       "      <td>652</td>\n",
       "    </tr>\n",
       "  </tbody>\n",
       "</table>\n",
       "</div>"
      ],
      "text/plain": [
       "       Pred_0  Pred_1\n",
       "Act_0    4985     244\n",
       "Act_1     796     652"
      ]
     },
     "execution_count": 282,
     "metadata": {},
     "output_type": "execute_result"
    }
   ],
   "source": [
    "cnfTest=pd.DataFrame(metrics.confusion_matrix(y_test , pred_test), columns=[\"Pred_0\", \"Pred_1\"],\n",
    "                index=[\"Act_0\", \"Act_1\"])\n",
    "cnfTest"
   ]
  },
  {
   "cell_type": "code",
   "execution_count": 283,
   "id": "a716b82e",
   "metadata": {},
   "outputs": [
    {
     "name": "stdout",
     "output_type": "stream",
     "text": [
      "              precision    recall  f1-score   support\n",
      "\n",
      "           0       0.86      0.95      0.91      5229\n",
      "           1       0.73      0.45      0.56      1448\n",
      "\n",
      "    accuracy                           0.84      6677\n",
      "   macro avg       0.79      0.70      0.73      6677\n",
      "weighted avg       0.83      0.84      0.83      6677\n",
      "\n"
     ]
    }
   ],
   "source": [
    "print(metrics.classification_report(y_test, pred_test))"
   ]
  },
  {
   "cell_type": "code",
   "execution_count": 284,
   "id": "1b72a7b1",
   "metadata": {},
   "outputs": [
    {
     "data": {
      "text/html": [
       "<div>\n",
       "<style scoped>\n",
       "    .dataframe tbody tr th:only-of-type {\n",
       "        vertical-align: middle;\n",
       "    }\n",
       "\n",
       "    .dataframe tbody tr th {\n",
       "        vertical-align: top;\n",
       "    }\n",
       "\n",
       "    .dataframe thead th {\n",
       "        text-align: right;\n",
       "    }\n",
       "</style>\n",
       "<table border=\"1\" class=\"dataframe\">\n",
       "  <thead>\n",
       "    <tr style=\"text-align: right;\">\n",
       "      <th></th>\n",
       "      <th>Prob_0</th>\n",
       "      <th>Prob_1</th>\n",
       "    </tr>\n",
       "  </thead>\n",
       "  <tbody>\n",
       "    <tr>\n",
       "      <th>0</th>\n",
       "      <td>0.945305</td>\n",
       "      <td>0.054695</td>\n",
       "    </tr>\n",
       "    <tr>\n",
       "      <th>1</th>\n",
       "      <td>0.965775</td>\n",
       "      <td>0.034225</td>\n",
       "    </tr>\n",
       "    <tr>\n",
       "      <th>2</th>\n",
       "      <td>0.404756</td>\n",
       "      <td>0.595244</td>\n",
       "    </tr>\n",
       "    <tr>\n",
       "      <th>3</th>\n",
       "      <td>0.988857</td>\n",
       "      <td>0.011143</td>\n",
       "    </tr>\n",
       "    <tr>\n",
       "      <th>4</th>\n",
       "      <td>0.799952</td>\n",
       "      <td>0.200048</td>\n",
       "    </tr>\n",
       "    <tr>\n",
       "      <th>...</th>\n",
       "      <td>...</td>\n",
       "      <td>...</td>\n",
       "    </tr>\n",
       "    <tr>\n",
       "      <th>20025</th>\n",
       "      <td>0.963749</td>\n",
       "      <td>0.036251</td>\n",
       "    </tr>\n",
       "    <tr>\n",
       "      <th>20026</th>\n",
       "      <td>0.935796</td>\n",
       "      <td>0.064204</td>\n",
       "    </tr>\n",
       "    <tr>\n",
       "      <th>20027</th>\n",
       "      <td>0.735832</td>\n",
       "      <td>0.264168</td>\n",
       "    </tr>\n",
       "    <tr>\n",
       "      <th>20028</th>\n",
       "      <td>0.775515</td>\n",
       "      <td>0.224485</td>\n",
       "    </tr>\n",
       "    <tr>\n",
       "      <th>20029</th>\n",
       "      <td>0.962829</td>\n",
       "      <td>0.037171</td>\n",
       "    </tr>\n",
       "  </tbody>\n",
       "</table>\n",
       "<p>20030 rows × 2 columns</p>\n",
       "</div>"
      ],
      "text/plain": [
       "         Prob_0    Prob_1\n",
       "0      0.945305  0.054695\n",
       "1      0.965775  0.034225\n",
       "2      0.404756  0.595244\n",
       "3      0.988857  0.011143\n",
       "4      0.799952  0.200048\n",
       "...         ...       ...\n",
       "20025  0.963749  0.036251\n",
       "20026  0.935796  0.064204\n",
       "20027  0.735832  0.264168\n",
       "20028  0.775515  0.224485\n",
       "20029  0.962829  0.037171\n",
       "\n",
       "[20030 rows x 2 columns]"
      ]
     },
     "execution_count": 284,
     "metadata": {},
     "output_type": "execute_result"
    }
   ],
   "source": [
    "pd.DataFrame(log.predict_proba(x_train), columns=[\"Prob_0\", \"Prob_1\"])"
   ]
  },
  {
   "cell_type": "code",
   "execution_count": 285,
   "id": "0274957c",
   "metadata": {},
   "outputs": [
    {
     "data": {
      "text/html": [
       "<div>\n",
       "<style scoped>\n",
       "    .dataframe tbody tr th:only-of-type {\n",
       "        vertical-align: middle;\n",
       "    }\n",
       "\n",
       "    .dataframe tbody tr th {\n",
       "        vertical-align: top;\n",
       "    }\n",
       "\n",
       "    .dataframe thead th {\n",
       "        text-align: right;\n",
       "    }\n",
       "</style>\n",
       "<table border=\"1\" class=\"dataframe\">\n",
       "  <thead>\n",
       "    <tr style=\"text-align: right;\">\n",
       "      <th></th>\n",
       "      <th>h1n1_worry_1.0</th>\n",
       "      <th>h1n1_worry_2.0</th>\n",
       "      <th>h1n1_worry_3.0</th>\n",
       "      <th>h1n1_awareness_1.0</th>\n",
       "      <th>h1n1_awareness_2.0</th>\n",
       "      <th>antiviral_medication_1.0</th>\n",
       "      <th>contact_avoidance_1.0</th>\n",
       "      <th>bought_face_mask_1.0</th>\n",
       "      <th>wash_hands_frequently_1.0</th>\n",
       "      <th>avoid_large_gatherings_1.0</th>\n",
       "      <th>...</th>\n",
       "      <th>census_msa_MSA, Principle City</th>\n",
       "      <th>census_msa_Non-MSA</th>\n",
       "      <th>no_of_adults_1.0</th>\n",
       "      <th>no_of_adults_2.0</th>\n",
       "      <th>no_of_adults_3.0</th>\n",
       "      <th>no_of_children_1.0</th>\n",
       "      <th>no_of_children_2.0</th>\n",
       "      <th>no_of_children_3.0</th>\n",
       "      <th>Actual_Default</th>\n",
       "      <th>Prob_Default</th>\n",
       "    </tr>\n",
       "  </thead>\n",
       "  <tbody>\n",
       "    <tr>\n",
       "      <th>9353</th>\n",
       "      <td>1</td>\n",
       "      <td>0</td>\n",
       "      <td>0</td>\n",
       "      <td>1</td>\n",
       "      <td>0</td>\n",
       "      <td>0</td>\n",
       "      <td>1</td>\n",
       "      <td>0</td>\n",
       "      <td>1</td>\n",
       "      <td>1</td>\n",
       "      <td>...</td>\n",
       "      <td>0</td>\n",
       "      <td>0</td>\n",
       "      <td>1</td>\n",
       "      <td>0</td>\n",
       "      <td>0</td>\n",
       "      <td>0</td>\n",
       "      <td>0</td>\n",
       "      <td>0</td>\n",
       "      <td>0</td>\n",
       "      <td>0.054695</td>\n",
       "    </tr>\n",
       "    <tr>\n",
       "      <th>6317</th>\n",
       "      <td>0</td>\n",
       "      <td>1</td>\n",
       "      <td>0</td>\n",
       "      <td>1</td>\n",
       "      <td>0</td>\n",
       "      <td>0</td>\n",
       "      <td>1</td>\n",
       "      <td>0</td>\n",
       "      <td>1</td>\n",
       "      <td>0</td>\n",
       "      <td>...</td>\n",
       "      <td>1</td>\n",
       "      <td>0</td>\n",
       "      <td>1</td>\n",
       "      <td>0</td>\n",
       "      <td>0</td>\n",
       "      <td>0</td>\n",
       "      <td>0</td>\n",
       "      <td>0</td>\n",
       "      <td>0</td>\n",
       "      <td>0.034225</td>\n",
       "    </tr>\n",
       "    <tr>\n",
       "      <th>13542</th>\n",
       "      <td>0</td>\n",
       "      <td>1</td>\n",
       "      <td>0</td>\n",
       "      <td>1</td>\n",
       "      <td>0</td>\n",
       "      <td>0</td>\n",
       "      <td>0</td>\n",
       "      <td>0</td>\n",
       "      <td>1</td>\n",
       "      <td>1</td>\n",
       "      <td>...</td>\n",
       "      <td>0</td>\n",
       "      <td>1</td>\n",
       "      <td>0</td>\n",
       "      <td>0</td>\n",
       "      <td>0</td>\n",
       "      <td>0</td>\n",
       "      <td>0</td>\n",
       "      <td>0</td>\n",
       "      <td>0</td>\n",
       "      <td>0.595244</td>\n",
       "    </tr>\n",
       "    <tr>\n",
       "      <th>23986</th>\n",
       "      <td>0</td>\n",
       "      <td>1</td>\n",
       "      <td>0</td>\n",
       "      <td>0</td>\n",
       "      <td>1</td>\n",
       "      <td>0</td>\n",
       "      <td>1</td>\n",
       "      <td>0</td>\n",
       "      <td>1</td>\n",
       "      <td>1</td>\n",
       "      <td>...</td>\n",
       "      <td>0</td>\n",
       "      <td>0</td>\n",
       "      <td>0</td>\n",
       "      <td>0</td>\n",
       "      <td>0</td>\n",
       "      <td>0</td>\n",
       "      <td>0</td>\n",
       "      <td>0</td>\n",
       "      <td>0</td>\n",
       "      <td>0.011143</td>\n",
       "    </tr>\n",
       "    <tr>\n",
       "      <th>16025</th>\n",
       "      <td>1</td>\n",
       "      <td>0</td>\n",
       "      <td>0</td>\n",
       "      <td>0</td>\n",
       "      <td>1</td>\n",
       "      <td>1</td>\n",
       "      <td>1</td>\n",
       "      <td>0</td>\n",
       "      <td>1</td>\n",
       "      <td>1</td>\n",
       "      <td>...</td>\n",
       "      <td>1</td>\n",
       "      <td>0</td>\n",
       "      <td>1</td>\n",
       "      <td>0</td>\n",
       "      <td>0</td>\n",
       "      <td>0</td>\n",
       "      <td>0</td>\n",
       "      <td>0</td>\n",
       "      <td>1</td>\n",
       "      <td>0.200048</td>\n",
       "    </tr>\n",
       "    <tr>\n",
       "      <th>...</th>\n",
       "      <td>...</td>\n",
       "      <td>...</td>\n",
       "      <td>...</td>\n",
       "      <td>...</td>\n",
       "      <td>...</td>\n",
       "      <td>...</td>\n",
       "      <td>...</td>\n",
       "      <td>...</td>\n",
       "      <td>...</td>\n",
       "      <td>...</td>\n",
       "      <td>...</td>\n",
       "      <td>...</td>\n",
       "      <td>...</td>\n",
       "      <td>...</td>\n",
       "      <td>...</td>\n",
       "      <td>...</td>\n",
       "      <td>...</td>\n",
       "      <td>...</td>\n",
       "      <td>...</td>\n",
       "      <td>...</td>\n",
       "      <td>...</td>\n",
       "    </tr>\n",
       "    <tr>\n",
       "      <th>24938</th>\n",
       "      <td>0</td>\n",
       "      <td>0</td>\n",
       "      <td>0</td>\n",
       "      <td>0</td>\n",
       "      <td>1</td>\n",
       "      <td>0</td>\n",
       "      <td>1</td>\n",
       "      <td>0</td>\n",
       "      <td>1</td>\n",
       "      <td>0</td>\n",
       "      <td>...</td>\n",
       "      <td>0</td>\n",
       "      <td>1</td>\n",
       "      <td>0</td>\n",
       "      <td>0</td>\n",
       "      <td>1</td>\n",
       "      <td>1</td>\n",
       "      <td>0</td>\n",
       "      <td>0</td>\n",
       "      <td>0</td>\n",
       "      <td>0.036251</td>\n",
       "    </tr>\n",
       "    <tr>\n",
       "      <th>2481</th>\n",
       "      <td>0</td>\n",
       "      <td>0</td>\n",
       "      <td>1</td>\n",
       "      <td>1</td>\n",
       "      <td>0</td>\n",
       "      <td>0</td>\n",
       "      <td>1</td>\n",
       "      <td>0</td>\n",
       "      <td>1</td>\n",
       "      <td>1</td>\n",
       "      <td>...</td>\n",
       "      <td>0</td>\n",
       "      <td>0</td>\n",
       "      <td>0</td>\n",
       "      <td>0</td>\n",
       "      <td>0</td>\n",
       "      <td>0</td>\n",
       "      <td>0</td>\n",
       "      <td>0</td>\n",
       "      <td>0</td>\n",
       "      <td>0.064204</td>\n",
       "    </tr>\n",
       "    <tr>\n",
       "      <th>4047</th>\n",
       "      <td>0</td>\n",
       "      <td>0</td>\n",
       "      <td>1</td>\n",
       "      <td>1</td>\n",
       "      <td>0</td>\n",
       "      <td>0</td>\n",
       "      <td>1</td>\n",
       "      <td>0</td>\n",
       "      <td>1</td>\n",
       "      <td>1</td>\n",
       "      <td>...</td>\n",
       "      <td>0</td>\n",
       "      <td>1</td>\n",
       "      <td>1</td>\n",
       "      <td>0</td>\n",
       "      <td>0</td>\n",
       "      <td>0</td>\n",
       "      <td>1</td>\n",
       "      <td>0</td>\n",
       "      <td>0</td>\n",
       "      <td>0.264168</td>\n",
       "    </tr>\n",
       "    <tr>\n",
       "      <th>6432</th>\n",
       "      <td>1</td>\n",
       "      <td>0</td>\n",
       "      <td>0</td>\n",
       "      <td>1</td>\n",
       "      <td>0</td>\n",
       "      <td>0</td>\n",
       "      <td>1</td>\n",
       "      <td>0</td>\n",
       "      <td>1</td>\n",
       "      <td>0</td>\n",
       "      <td>...</td>\n",
       "      <td>1</td>\n",
       "      <td>0</td>\n",
       "      <td>1</td>\n",
       "      <td>0</td>\n",
       "      <td>0</td>\n",
       "      <td>1</td>\n",
       "      <td>0</td>\n",
       "      <td>0</td>\n",
       "      <td>1</td>\n",
       "      <td>0.224485</td>\n",
       "    </tr>\n",
       "    <tr>\n",
       "      <th>26584</th>\n",
       "      <td>0</td>\n",
       "      <td>1</td>\n",
       "      <td>0</td>\n",
       "      <td>1</td>\n",
       "      <td>0</td>\n",
       "      <td>0</td>\n",
       "      <td>1</td>\n",
       "      <td>0</td>\n",
       "      <td>1</td>\n",
       "      <td>1</td>\n",
       "      <td>...</td>\n",
       "      <td>1</td>\n",
       "      <td>0</td>\n",
       "      <td>1</td>\n",
       "      <td>0</td>\n",
       "      <td>0</td>\n",
       "      <td>0</td>\n",
       "      <td>0</td>\n",
       "      <td>0</td>\n",
       "      <td>0</td>\n",
       "      <td>0.037171</td>\n",
       "    </tr>\n",
       "  </tbody>\n",
       "</table>\n",
       "<p>20030 rows × 71 columns</p>\n",
       "</div>"
      ],
      "text/plain": [
       "       h1n1_worry_1.0  h1n1_worry_2.0  h1n1_worry_3.0  h1n1_awareness_1.0  \\\n",
       "9353                1               0               0                   1   \n",
       "6317                0               1               0                   1   \n",
       "13542               0               1               0                   1   \n",
       "23986               0               1               0                   0   \n",
       "16025               1               0               0                   0   \n",
       "...               ...             ...             ...                 ...   \n",
       "24938               0               0               0                   0   \n",
       "2481                0               0               1                   1   \n",
       "4047                0               0               1                   1   \n",
       "6432                1               0               0                   1   \n",
       "26584               0               1               0                   1   \n",
       "\n",
       "       h1n1_awareness_2.0  antiviral_medication_1.0  contact_avoidance_1.0  \\\n",
       "9353                    0                         0                      1   \n",
       "6317                    0                         0                      1   \n",
       "13542                   0                         0                      0   \n",
       "23986                   1                         0                      1   \n",
       "16025                   1                         1                      1   \n",
       "...                   ...                       ...                    ...   \n",
       "24938                   1                         0                      1   \n",
       "2481                    0                         0                      1   \n",
       "4047                    0                         0                      1   \n",
       "6432                    0                         0                      1   \n",
       "26584                   0                         0                      1   \n",
       "\n",
       "       bought_face_mask_1.0  wash_hands_frequently_1.0  \\\n",
       "9353                      0                          1   \n",
       "6317                      0                          1   \n",
       "13542                     0                          1   \n",
       "23986                     0                          1   \n",
       "16025                     0                          1   \n",
       "...                     ...                        ...   \n",
       "24938                     0                          1   \n",
       "2481                      0                          1   \n",
       "4047                      0                          1   \n",
       "6432                      0                          1   \n",
       "26584                     0                          1   \n",
       "\n",
       "       avoid_large_gatherings_1.0  ...  census_msa_MSA, Principle City  \\\n",
       "9353                            1  ...                               0   \n",
       "6317                            0  ...                               1   \n",
       "13542                           1  ...                               0   \n",
       "23986                           1  ...                               0   \n",
       "16025                           1  ...                               1   \n",
       "...                           ...  ...                             ...   \n",
       "24938                           0  ...                               0   \n",
       "2481                            1  ...                               0   \n",
       "4047                            1  ...                               0   \n",
       "6432                            0  ...                               1   \n",
       "26584                           1  ...                               1   \n",
       "\n",
       "       census_msa_Non-MSA  no_of_adults_1.0  no_of_adults_2.0  \\\n",
       "9353                    0                 1                 0   \n",
       "6317                    0                 1                 0   \n",
       "13542                   1                 0                 0   \n",
       "23986                   0                 0                 0   \n",
       "16025                   0                 1                 0   \n",
       "...                   ...               ...               ...   \n",
       "24938                   1                 0                 0   \n",
       "2481                    0                 0                 0   \n",
       "4047                    1                 1                 0   \n",
       "6432                    0                 1                 0   \n",
       "26584                   0                 1                 0   \n",
       "\n",
       "       no_of_adults_3.0  no_of_children_1.0  no_of_children_2.0  \\\n",
       "9353                  0                   0                   0   \n",
       "6317                  0                   0                   0   \n",
       "13542                 0                   0                   0   \n",
       "23986                 0                   0                   0   \n",
       "16025                 0                   0                   0   \n",
       "...                 ...                 ...                 ...   \n",
       "24938                 1                   1                   0   \n",
       "2481                  0                   0                   0   \n",
       "4047                  0                   0                   1   \n",
       "6432                  0                   1                   0   \n",
       "26584                 0                   0                   0   \n",
       "\n",
       "       no_of_children_3.0  Actual_Default  Prob_Default  \n",
       "9353                    0               0      0.054695  \n",
       "6317                    0               0      0.034225  \n",
       "13542                   0               0      0.595244  \n",
       "23986                   0               0      0.011143  \n",
       "16025                   0               1      0.200048  \n",
       "...                   ...             ...           ...  \n",
       "24938                   0               0      0.036251  \n",
       "2481                    0               0      0.064204  \n",
       "4047                    0               0      0.264168  \n",
       "6432                    0               1      0.224485  \n",
       "26584                   0               0      0.037171  \n",
       "\n",
       "[20030 rows x 71 columns]"
      ]
     },
     "execution_count": 285,
     "metadata": {},
     "output_type": "execute_result"
    }
   ],
   "source": [
    "x_train1=x_train.copy()\n",
    "\n",
    "x_train1[\"Actual_Default\"]=y_train\n",
    "x_train1[\"Prob_Default\"]=log.predict_proba(x_train)[:, 1]\n",
    "\n",
    "x_train1"
   ]
  },
  {
   "cell_type": "markdown",
   "id": "fcde003e",
   "metadata": {},
   "source": [
    "## Analysis on the Predicted and Actual Values"
   ]
  },
  {
   "cell_type": "code",
   "execution_count": 286,
   "id": "1048ecf0",
   "metadata": {},
   "outputs": [],
   "source": [
    "def profile_decile(X,y,trained_model):\n",
    "    X_1=X.copy()\n",
    "    y_1=y.copy()\n",
    "    y_pred1=trained_model.predict(X_1)\n",
    "    X_1[\"Prob_Event\"]=trained_model.predict_proba(X_1)[:,1]\n",
    "    X_1[\"Y_actual\"]=y_1\n",
    "    X_1[\"Y_pred\"]=y_pred1\n",
    "    X_1[\"Rank\"]=pd.qcut(X_1[\"Prob_Event\"], 10, labels=np.arange(0,10,1))\n",
    "    X_1[\"numb\"]=10\n",
    "    X_1[\"Decile\"]=X_1[\"numb\"]-X_1[\"Rank\"].astype(\"int\")\n",
    "    \n",
    "    profile=pd.DataFrame(X_1.groupby(\"Decile\") \\\n",
    "                        .apply(lambda x: pd.Series({\n",
    "        'min_score'   : x[\"Prob_Event\"].min(),\n",
    "        'max_score'   : x[\"Prob_Event\"].max(),\n",
    "        'Event'       : x[\"Y_actual\"].sum(),\n",
    "        'Non_event'   : x[\"Y_actual\"].count()-x[\"Y_actual\"].sum(),\n",
    "        'Total'       : x[\"Y_actual\"].count() })))\n",
    "    return profile"
   ]
  },
  {
   "cell_type": "code",
   "execution_count": 287,
   "id": "f248a62b",
   "metadata": {},
   "outputs": [],
   "source": [
    "newtrain_pred=np.where(log.predict_proba(x_train)[:,1] > 0.232280104, 1, 0)"
   ]
  },
  {
   "cell_type": "code",
   "execution_count": 288,
   "id": "64fcbc84",
   "metadata": {},
   "outputs": [
    {
     "data": {
      "text/html": [
       "<div>\n",
       "<style scoped>\n",
       "    .dataframe tbody tr th:only-of-type {\n",
       "        vertical-align: middle;\n",
       "    }\n",
       "\n",
       "    .dataframe tbody tr th {\n",
       "        vertical-align: top;\n",
       "    }\n",
       "\n",
       "    .dataframe thead th {\n",
       "        text-align: right;\n",
       "    }\n",
       "</style>\n",
       "<table border=\"1\" class=\"dataframe\">\n",
       "  <thead>\n",
       "    <tr style=\"text-align: right;\">\n",
       "      <th></th>\n",
       "      <th>Pred_0</th>\n",
       "      <th>Pred_1</th>\n",
       "    </tr>\n",
       "  </thead>\n",
       "  <tbody>\n",
       "    <tr>\n",
       "      <th>Act_0</th>\n",
       "      <td>12966</td>\n",
       "      <td>2838</td>\n",
       "    </tr>\n",
       "    <tr>\n",
       "      <th>Act_1</th>\n",
       "      <td>1056</td>\n",
       "      <td>3170</td>\n",
       "    </tr>\n",
       "  </tbody>\n",
       "</table>\n",
       "</div>"
      ],
      "text/plain": [
       "       Pred_0  Pred_1\n",
       "Act_0   12966    2838\n",
       "Act_1    1056    3170"
      ]
     },
     "execution_count": 288,
     "metadata": {},
     "output_type": "execute_result"
    }
   ],
   "source": [
    "cnfNewTrain=pd.DataFrame(metrics.confusion_matrix(y_train , newtrain_pred), columns=[\"Pred_0\", \"Pred_1\"],\n",
    "                index=[\"Act_0\", \"Act_1\"])\n",
    "cnfNewTrain"
   ]
  },
  {
   "cell_type": "code",
   "execution_count": 289,
   "id": "31351f5c",
   "metadata": {},
   "outputs": [
    {
     "name": "stdout",
     "output_type": "stream",
     "text": [
      "              precision    recall  f1-score   support\n",
      "\n",
      "           0       0.92      0.82      0.87     15804\n",
      "           1       0.53      0.75      0.62      4226\n",
      "\n",
      "    accuracy                           0.81     20030\n",
      "   macro avg       0.73      0.79      0.74     20030\n",
      "weighted avg       0.84      0.81      0.82     20030\n",
      "\n"
     ]
    }
   ],
   "source": [
    "print(metrics.classification_report(y_train , newtrain_pred))"
   ]
  },
  {
   "cell_type": "code",
   "execution_count": 290,
   "id": "b148df52",
   "metadata": {},
   "outputs": [],
   "source": [
    "newtest_pred=np.where(log.predict_proba(x_test)[:,1] > 0.229209326, 1, 0)"
   ]
  },
  {
   "cell_type": "code",
   "execution_count": 291,
   "id": "7658191f",
   "metadata": {},
   "outputs": [
    {
     "data": {
      "text/html": [
       "<div>\n",
       "<style scoped>\n",
       "    .dataframe tbody tr th:only-of-type {\n",
       "        vertical-align: middle;\n",
       "    }\n",
       "\n",
       "    .dataframe tbody tr th {\n",
       "        vertical-align: top;\n",
       "    }\n",
       "\n",
       "    .dataframe thead th {\n",
       "        text-align: right;\n",
       "    }\n",
       "</style>\n",
       "<table border=\"1\" class=\"dataframe\">\n",
       "  <thead>\n",
       "    <tr style=\"text-align: right;\">\n",
       "      <th></th>\n",
       "      <th>Pred_0</th>\n",
       "      <th>Pred_1</th>\n",
       "    </tr>\n",
       "  </thead>\n",
       "  <tbody>\n",
       "    <tr>\n",
       "      <th>Act_0</th>\n",
       "      <td>4272</td>\n",
       "      <td>957</td>\n",
       "    </tr>\n",
       "    <tr>\n",
       "      <th>Act_1</th>\n",
       "      <td>402</td>\n",
       "      <td>1046</td>\n",
       "    </tr>\n",
       "  </tbody>\n",
       "</table>\n",
       "</div>"
      ],
      "text/plain": [
       "       Pred_0  Pred_1\n",
       "Act_0    4272     957\n",
       "Act_1     402    1046"
      ]
     },
     "execution_count": 291,
     "metadata": {},
     "output_type": "execute_result"
    }
   ],
   "source": [
    "cnfNewTest=pd.DataFrame(metrics.confusion_matrix(y_test , newtest_pred), columns=[\"Pred_0\", \"Pred_1\"],\n",
    "                index=[\"Act_0\", \"Act_1\"])\n",
    "cnfNewTest"
   ]
  },
  {
   "cell_type": "code",
   "execution_count": 292,
   "id": "5cd6d11e",
   "metadata": {},
   "outputs": [
    {
     "name": "stdout",
     "output_type": "stream",
     "text": [
      "              precision    recall  f1-score   support\n",
      "\n",
      "           0       0.91      0.82      0.86      5229\n",
      "           1       0.52      0.72      0.61      1448\n",
      "\n",
      "    accuracy                           0.80      6677\n",
      "   macro avg       0.72      0.77      0.73      6677\n",
      "weighted avg       0.83      0.80      0.81      6677\n",
      "\n"
     ]
    }
   ],
   "source": [
    "print(metrics.classification_report(y_test , newtest_pred))"
   ]
  },
  {
   "cell_type": "code",
   "execution_count": 293,
   "id": "c4f9cbf2",
   "metadata": {},
   "outputs": [
    {
     "data": {
      "image/png": "[encoded data removed]",
      "text/plain": [
       "<Figure size 640x480 with 1 Axes>"
      ]
     },
     "metadata": {},
     "output_type": "display_data"
    }
   ],
   "source": [
    "probs=log.predict_proba(x_train)[:,1]\n",
    "\n",
    "fpr, tpr, threshold=metrics.roc_curve(y_train,probs )\n",
    "plt.plot([0,1],[0,1],'k--')\n",
    "plt.plot(fpr,tpr, label='logistic')\n",
    "plt.xlabel('fpr')\n",
    "plt.ylabel('tpr')\n",
    "plt.show()"
   ]
  },
  {
   "cell_type": "code",
   "execution_count": 294,
   "id": "e8790cde",
   "metadata": {},
   "outputs": [
    {
     "data": {
      "text/plain": [
       "0.8646604470787018"
      ]
     },
     "execution_count": 294,
     "metadata": {},
     "output_type": "execute_result"
    }
   ],
   "source": [
    "metrics.roc_auc_score(y_train,probs)"
   ]
  },
  {
   "cell_type": "code",
   "execution_count": 295,
   "id": "7942b58e",
   "metadata": {},
   "outputs": [
    {
     "data": {
      "text/html": [
       "<div>\n",
       "<style scoped>\n",
       "    .dataframe tbody tr th:only-of-type {\n",
       "        vertical-align: middle;\n",
       "    }\n",
       "\n",
       "    .dataframe tbody tr th {\n",
       "        vertical-align: top;\n",
       "    }\n",
       "\n",
       "    .dataframe thead th {\n",
       "        text-align: right;\n",
       "    }\n",
       "</style>\n",
       "<table border=\"1\" class=\"dataframe\">\n",
       "  <thead>\n",
       "    <tr style=\"text-align: right;\">\n",
       "      <th></th>\n",
       "      <th>Model</th>\n",
       "      <th>ROC Score</th>\n",
       "      <th>Precision Score</th>\n",
       "      <th>Recall Score</th>\n",
       "      <th>F1 Score</th>\n",
       "      <th>Accuracy Score</th>\n",
       "    </tr>\n",
       "  </thead>\n",
       "  <tbody>\n",
       "    <tr>\n",
       "      <th>0</th>\n",
       "      <td>Logical Regression</td>\n",
       "      <td>0.769679</td>\n",
       "      <td>0.522217</td>\n",
       "      <td>0.722376</td>\n",
       "      <td>0.606201</td>\n",
       "      <td>0.796465</td>\n",
       "    </tr>\n",
       "  </tbody>\n",
       "</table>\n",
       "</div>"
      ],
      "text/plain": [
       "                  Model  ROC Score  Precision Score  Recall Score  F1 Score  \\\n",
       "0   Logical Regression    0.769679         0.522217      0.722376  0.606201   \n",
       "\n",
       "   Accuracy Score  \n",
       "0        0.796465  "
      ]
     },
     "execution_count": 295,
     "metadata": {},
     "output_type": "execute_result"
    }
   ],
   "source": [
    "model_report = pd.DataFrame()\n",
    "\n",
    "tmp = pd.Series({'Model': \" Logical Regression \",\n",
    "                 'ROC Score' : metrics.roc_auc_score(y_test, newtest_pred),\n",
    "                 'Precision Score': metrics.precision_score(y_test, newtest_pred),\n",
    "                 'Recall Score': metrics.recall_score(y_test, newtest_pred),\n",
    "                 'F1 Score' : metrics.f1_score(y_test, newtest_pred),\n",
    "                 'Accuracy Score': metrics.accuracy_score(y_test, newtest_pred)})\n",
    "\n",
    "model_logR_report = model_report.append(tmp, ignore_index = True)\n",
    "model_logR_report"
   ]
  },
  {
   "cell_type": "code",
   "execution_count": null,
   "id": "b49db74e",
   "metadata": {},
   "outputs": [],
   "source": []
  }
 ],
 "metadata": {
  "kernelspec": {
   "display_name": "Python 3 (ipykernel)",
   "language": "python",
   "name": "python3"
  },
  "language_info": {
   "codemirror_mode": {
    "name": "ipython",
    "version": 3
   },
   "file_extension": ".py",
   "mimetype": "text/x-python",
   "name": "python",
   "nbconvert_exporter": "python",
   "pygments_lexer": "ipython3",
   "version": "3.9.13"
  }
 },
 "nbformat": 4,
 "nbformat_minor": 5
}
